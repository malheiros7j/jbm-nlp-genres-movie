{
 "cells": [
  {
   "cell_type": "code",
   "execution_count": 2,
   "id": "4f98c75c-c087-4b77-af34-000c526e777b",
   "metadata": {
    "execution": {
     "iopub.execute_input": "2023-04-21T22:34:49.419961Z",
     "iopub.status.busy": "2023-04-21T22:34:49.419706Z",
     "iopub.status.idle": "2023-04-21T22:34:49.664488Z",
     "shell.execute_reply": "2023-04-21T22:34:49.664066Z",
     "shell.execute_reply.started": "2023-04-21T22:34:49.419948Z"
    },
    "tags": []
   },
   "outputs": [],
   "source": [
    "import pandas as pd\n",
    "import numpy as np\n",
    "from sklearn.feature_extraction.text import TfidfVectorizer\n",
    "from sklearn.preprocessing import MultiLabelBinarizer\n",
    "from sklearn.model_selection import train_test_split\n",
    "\n",
    "from sklearn.linear_model import SGDClassifier\n",
    "from sklearn.linear_model import LogisticRegression\n",
    "from sklearn.svm import LinearSVC\n",
    "\n",
    "from sklearn.multiclass import OneVsRestClassifier"
   ]
  },
  {
   "cell_type": "code",
   "execution_count": 6,
   "id": "89bba98c-2153-4afe-907b-4000aee98d67",
   "metadata": {
    "execution": {
     "iopub.execute_input": "2023-04-21T22:39:34.251817Z",
     "iopub.status.busy": "2023-04-21T22:39:34.251464Z",
     "iopub.status.idle": "2023-04-21T22:39:34.253720Z",
     "shell.execute_reply": "2023-04-21T22:39:34.253389Z",
     "shell.execute_reply.started": "2023-04-21T22:39:34.251802Z"
    },
    "tags": []
   },
   "outputs": [],
   "source": [
    "import ast"
   ]
  },
  {
   "cell_type": "code",
   "execution_count": 4,
   "id": "c154566f-ef28-491b-90ae-5c2517be32e2",
   "metadata": {
    "execution": {
     "iopub.execute_input": "2023-04-21T22:39:01.670816Z",
     "iopub.status.busy": "2023-04-21T22:39:01.670552Z",
     "iopub.status.idle": "2023-04-21T22:39:01.912985Z",
     "shell.execute_reply": "2023-04-21T22:39:01.912631Z",
     "shell.execute_reply.started": "2023-04-21T22:39:01.670802Z"
    },
    "tags": []
   },
   "outputs": [],
   "source": [
    "df = pd.read_csv('../../Datasets/data/stackoverflow.csv', index_col=0)"
   ]
  },
  {
   "cell_type": "code",
   "execution_count": 5,
   "id": "329c60b7-4e7a-4e90-b9f4-791346d54e1e",
   "metadata": {
    "execution": {
     "iopub.execute_input": "2023-04-21T22:39:04.957939Z",
     "iopub.status.busy": "2023-04-21T22:39:04.957667Z",
     "iopub.status.idle": "2023-04-21T22:39:04.964218Z",
     "shell.execute_reply": "2023-04-21T22:39:04.963911Z",
     "shell.execute_reply.started": "2023-04-21T22:39:04.957925Z"
    },
    "tags": []
   },
   "outputs": [
    {
     "data": {
      "text/html": [
       "<div>\n",
       "<style scoped>\n",
       "    .dataframe tbody tr th:only-of-type {\n",
       "        vertical-align: middle;\n",
       "    }\n",
       "\n",
       "    .dataframe tbody tr th {\n",
       "        vertical-align: top;\n",
       "    }\n",
       "\n",
       "    .dataframe thead th {\n",
       "        text-align: right;\n",
       "    }\n",
       "</style>\n",
       "<table border=\"1\" class=\"dataframe\">\n",
       "  <thead>\n",
       "    <tr style=\"text-align: right;\">\n",
       "      <th></th>\n",
       "      <th>Text</th>\n",
       "      <th>Tags</th>\n",
       "    </tr>\n",
       "  </thead>\n",
       "  <tbody>\n",
       "    <tr>\n",
       "      <th>2</th>\n",
       "      <td>aspnet site maps has anyone got experience cre...</td>\n",
       "      <td>['sql', 'asp.net']</td>\n",
       "    </tr>\n",
       "    <tr>\n",
       "      <th>4</th>\n",
       "      <td>adding scripting functionality to net applicat...</td>\n",
       "      <td>['c#', '.net']</td>\n",
       "    </tr>\n",
       "    <tr>\n",
       "      <th>5</th>\n",
       "      <td>should i use nested classes in this case i am ...</td>\n",
       "      <td>['c++']</td>\n",
       "    </tr>\n",
       "    <tr>\n",
       "      <th>6</th>\n",
       "      <td>homegrown consumption of web services i have b...</td>\n",
       "      <td>['.net']</td>\n",
       "    </tr>\n",
       "    <tr>\n",
       "      <th>8</th>\n",
       "      <td>automatically update version number i would li...</td>\n",
       "      <td>['c#']</td>\n",
       "    </tr>\n",
       "  </tbody>\n",
       "</table>\n",
       "</div>"
      ],
      "text/plain": [
       "                                                Text                Tags\n",
       "2  aspnet site maps has anyone got experience cre...  ['sql', 'asp.net']\n",
       "4  adding scripting functionality to net applicat...      ['c#', '.net']\n",
       "5  should i use nested classes in this case i am ...             ['c++']\n",
       "6  homegrown consumption of web services i have b...            ['.net']\n",
       "8  automatically update version number i would li...              ['c#']"
      ]
     },
     "execution_count": 5,
     "metadata": {},
     "output_type": "execute_result"
    }
   ],
   "source": [
    "df.head()"
   ]
  },
  {
   "cell_type": "code",
   "execution_count": 7,
   "id": "385ecc7f-f51f-491b-b21e-3a504e6f5006",
   "metadata": {
    "execution": {
     "iopub.execute_input": "2023-04-21T22:39:50.436694Z",
     "iopub.status.busy": "2023-04-21T22:39:50.436205Z",
     "iopub.status.idle": "2023-04-21T22:39:50.439415Z",
     "shell.execute_reply": "2023-04-21T22:39:50.439114Z",
     "shell.execute_reply.started": "2023-04-21T22:39:50.436679Z"
    },
    "tags": []
   },
   "outputs": [
    {
     "data": {
      "text/plain": [
       "['sql', 'asp.net']"
      ]
     },
     "execution_count": 7,
     "metadata": {},
     "output_type": "execute_result"
    }
   ],
   "source": [
    "ast.literal_eval(df['Tags'].iloc[0])"
   ]
  },
  {
   "cell_type": "code",
   "execution_count": 8,
   "id": "69ad566c-ed77-4cd8-84ad-630dfca48b0a",
   "metadata": {
    "execution": {
     "iopub.execute_input": "2023-04-21T22:39:55.903414Z",
     "iopub.status.busy": "2023-04-21T22:39:55.902959Z",
     "iopub.status.idle": "2023-04-21T22:39:56.200403Z",
     "shell.execute_reply": "2023-04-21T22:39:56.199997Z",
     "shell.execute_reply.started": "2023-04-21T22:39:55.903400Z"
    },
    "tags": []
   },
   "outputs": [
    {
     "data": {
      "text/html": [
       "<div>\n",
       "<style scoped>\n",
       "    .dataframe tbody tr th:only-of-type {\n",
       "        vertical-align: middle;\n",
       "    }\n",
       "\n",
       "    .dataframe tbody tr th {\n",
       "        vertical-align: top;\n",
       "    }\n",
       "\n",
       "    .dataframe thead th {\n",
       "        text-align: right;\n",
       "    }\n",
       "</style>\n",
       "<table border=\"1\" class=\"dataframe\">\n",
       "  <thead>\n",
       "    <tr style=\"text-align: right;\">\n",
       "      <th></th>\n",
       "      <th>Text</th>\n",
       "      <th>Tags</th>\n",
       "    </tr>\n",
       "  </thead>\n",
       "  <tbody>\n",
       "    <tr>\n",
       "      <th>2</th>\n",
       "      <td>aspnet site maps has anyone got experience cre...</td>\n",
       "      <td>[sql, asp.net]</td>\n",
       "    </tr>\n",
       "    <tr>\n",
       "      <th>4</th>\n",
       "      <td>adding scripting functionality to net applicat...</td>\n",
       "      <td>[c#, .net]</td>\n",
       "    </tr>\n",
       "    <tr>\n",
       "      <th>5</th>\n",
       "      <td>should i use nested classes in this case i am ...</td>\n",
       "      <td>[c++]</td>\n",
       "    </tr>\n",
       "    <tr>\n",
       "      <th>6</th>\n",
       "      <td>homegrown consumption of web services i have b...</td>\n",
       "      <td>[.net]</td>\n",
       "    </tr>\n",
       "    <tr>\n",
       "      <th>8</th>\n",
       "      <td>automatically update version number i would li...</td>\n",
       "      <td>[c#]</td>\n",
       "    </tr>\n",
       "  </tbody>\n",
       "</table>\n",
       "</div>"
      ],
      "text/plain": [
       "                                                Text            Tags\n",
       "2  aspnet site maps has anyone got experience cre...  [sql, asp.net]\n",
       "4  adding scripting functionality to net applicat...      [c#, .net]\n",
       "5  should i use nested classes in this case i am ...           [c++]\n",
       "6  homegrown consumption of web services i have b...          [.net]\n",
       "8  automatically update version number i would li...            [c#]"
      ]
     },
     "execution_count": 8,
     "metadata": {},
     "output_type": "execute_result"
    }
   ],
   "source": [
    "df['Tags'] = df['Tags'].apply(lambda x: ast.literal_eval(x))\n",
    "df.head()"
   ]
  },
  {
   "cell_type": "code",
   "execution_count": 15,
   "id": "1c5f35f2-df66-4f04-bce0-ee80fc7929db",
   "metadata": {
    "execution": {
     "iopub.execute_input": "2023-04-21T22:40:53.115039Z",
     "iopub.status.busy": "2023-04-21T22:40:53.114530Z",
     "iopub.status.idle": "2023-04-21T22:40:53.117242Z",
     "shell.execute_reply": "2023-04-21T22:40:53.116854Z",
     "shell.execute_reply.started": "2023-04-21T22:40:53.115018Z"
    },
    "tags": []
   },
   "outputs": [],
   "source": [
    "y = df['Tags']"
   ]
  },
  {
   "cell_type": "code",
   "execution_count": 16,
   "id": "88578fd1-053b-4b83-978e-97d174be45e7",
   "metadata": {
    "execution": {
     "iopub.execute_input": "2023-04-21T22:40:54.342009Z",
     "iopub.status.busy": "2023-04-21T22:40:54.341751Z",
     "iopub.status.idle": "2023-04-21T22:40:54.345923Z",
     "shell.execute_reply": "2023-04-21T22:40:54.345620Z",
     "shell.execute_reply.started": "2023-04-21T22:40:54.341995Z"
    },
    "tags": []
   },
   "outputs": [
    {
     "data": {
      "text/plain": [
       "2          [sql, asp.net]\n",
       "4              [c#, .net]\n",
       "5                   [c++]\n",
       "6                  [.net]\n",
       "8                    [c#]\n",
       "                ...      \n",
       "1262668             [c++]\n",
       "1262834             [c++]\n",
       "1262915          [python]\n",
       "1263065          [python]\n",
       "1263454             [c++]\n",
       "Name: Tags, Length: 48976, dtype: object"
      ]
     },
     "execution_count": 16,
     "metadata": {},
     "output_type": "execute_result"
    }
   ],
   "source": [
    "y"
   ]
  },
  {
   "cell_type": "code",
   "execution_count": 17,
   "id": "2337718f-6fc5-4749-957f-3f3ae06e3d85",
   "metadata": {
    "execution": {
     "iopub.execute_input": "2023-04-21T22:41:29.255560Z",
     "iopub.status.busy": "2023-04-21T22:41:29.255058Z",
     "iopub.status.idle": "2023-04-21T22:41:29.285306Z",
     "shell.execute_reply": "2023-04-21T22:41:29.284935Z",
     "shell.execute_reply.started": "2023-04-21T22:41:29.255539Z"
    },
    "tags": []
   },
   "outputs": [],
   "source": [
    "multilabel = MultiLabelBinarizer()\n",
    "y = multilabel.fit_transform(df['Tags'])"
   ]
  },
  {
   "cell_type": "code",
   "execution_count": 19,
   "id": "8f9238d0-41bf-4b34-b88c-78f61b87f881",
   "metadata": {
    "execution": {
     "iopub.execute_input": "2023-04-21T22:41:35.929898Z",
     "iopub.status.busy": "2023-04-21T22:41:35.929634Z",
     "iopub.status.idle": "2023-04-21T22:41:35.933118Z",
     "shell.execute_reply": "2023-04-21T22:41:35.932678Z",
     "shell.execute_reply.started": "2023-04-21T22:41:35.929871Z"
    },
    "tags": []
   },
   "outputs": [
    {
     "data": {
      "text/plain": [
       "(48976, 20)"
      ]
     },
     "execution_count": 19,
     "metadata": {},
     "output_type": "execute_result"
    }
   ],
   "source": [
    "y.shape"
   ]
  },
  {
   "cell_type": "code",
   "execution_count": 20,
   "id": "8ef23f17-d167-4e1b-9729-98fbabe3751b",
   "metadata": {
    "execution": {
     "iopub.execute_input": "2023-04-21T22:41:44.980106Z",
     "iopub.status.busy": "2023-04-21T22:41:44.979683Z",
     "iopub.status.idle": "2023-04-21T22:41:44.982661Z",
     "shell.execute_reply": "2023-04-21T22:41:44.982309Z",
     "shell.execute_reply.started": "2023-04-21T22:41:44.980092Z"
    },
    "tags": []
   },
   "outputs": [
    {
     "data": {
      "text/plain": [
       "array(['.net', 'android', 'asp.net', 'c', 'c#', 'c++', 'css', 'html',\n",
       "       'ios', 'iphone', 'java', 'javascript', 'jquery', 'mysql',\n",
       "       'objective-c', 'php', 'python', 'ruby', 'ruby-on-rails', 'sql'],\n",
       "      dtype=object)"
      ]
     },
     "execution_count": 20,
     "metadata": {},
     "output_type": "execute_result"
    }
   ],
   "source": [
    "multilabel.classes_"
   ]
  },
  {
   "cell_type": "code",
   "execution_count": 22,
   "id": "dae2232c-2f65-4e60-9206-69c98ede349a",
   "metadata": {
    "execution": {
     "iopub.execute_input": "2023-04-21T22:42:26.692847Z",
     "iopub.status.busy": "2023-04-21T22:42:26.692506Z",
     "iopub.status.idle": "2023-04-21T22:42:26.705428Z",
     "shell.execute_reply": "2023-04-21T22:42:26.705019Z",
     "shell.execute_reply.started": "2023-04-21T22:42:26.692826Z"
    },
    "tags": []
   },
   "outputs": [
    {
     "data": {
      "text/html": [
       "<div>\n",
       "<style scoped>\n",
       "    .dataframe tbody tr th:only-of-type {\n",
       "        vertical-align: middle;\n",
       "    }\n",
       "\n",
       "    .dataframe tbody tr th {\n",
       "        vertical-align: top;\n",
       "    }\n",
       "\n",
       "    .dataframe thead th {\n",
       "        text-align: right;\n",
       "    }\n",
       "</style>\n",
       "<table border=\"1\" class=\"dataframe\">\n",
       "  <thead>\n",
       "    <tr style=\"text-align: right;\">\n",
       "      <th></th>\n",
       "      <th>.net</th>\n",
       "      <th>android</th>\n",
       "      <th>asp.net</th>\n",
       "      <th>c</th>\n",
       "      <th>c#</th>\n",
       "      <th>c++</th>\n",
       "      <th>css</th>\n",
       "      <th>html</th>\n",
       "      <th>ios</th>\n",
       "      <th>iphone</th>\n",
       "      <th>java</th>\n",
       "      <th>javascript</th>\n",
       "      <th>jquery</th>\n",
       "      <th>mysql</th>\n",
       "      <th>objective-c</th>\n",
       "      <th>php</th>\n",
       "      <th>python</th>\n",
       "      <th>ruby</th>\n",
       "      <th>ruby-on-rails</th>\n",
       "      <th>sql</th>\n",
       "    </tr>\n",
       "  </thead>\n",
       "  <tbody>\n",
       "    <tr>\n",
       "      <th>0</th>\n",
       "      <td>0</td>\n",
       "      <td>0</td>\n",
       "      <td>1</td>\n",
       "      <td>0</td>\n",
       "      <td>0</td>\n",
       "      <td>0</td>\n",
       "      <td>0</td>\n",
       "      <td>0</td>\n",
       "      <td>0</td>\n",
       "      <td>0</td>\n",
       "      <td>0</td>\n",
       "      <td>0</td>\n",
       "      <td>0</td>\n",
       "      <td>0</td>\n",
       "      <td>0</td>\n",
       "      <td>0</td>\n",
       "      <td>0</td>\n",
       "      <td>0</td>\n",
       "      <td>0</td>\n",
       "      <td>1</td>\n",
       "    </tr>\n",
       "    <tr>\n",
       "      <th>1</th>\n",
       "      <td>1</td>\n",
       "      <td>0</td>\n",
       "      <td>0</td>\n",
       "      <td>0</td>\n",
       "      <td>1</td>\n",
       "      <td>0</td>\n",
       "      <td>0</td>\n",
       "      <td>0</td>\n",
       "      <td>0</td>\n",
       "      <td>0</td>\n",
       "      <td>0</td>\n",
       "      <td>0</td>\n",
       "      <td>0</td>\n",
       "      <td>0</td>\n",
       "      <td>0</td>\n",
       "      <td>0</td>\n",
       "      <td>0</td>\n",
       "      <td>0</td>\n",
       "      <td>0</td>\n",
       "      <td>0</td>\n",
       "    </tr>\n",
       "    <tr>\n",
       "      <th>2</th>\n",
       "      <td>0</td>\n",
       "      <td>0</td>\n",
       "      <td>0</td>\n",
       "      <td>0</td>\n",
       "      <td>0</td>\n",
       "      <td>1</td>\n",
       "      <td>0</td>\n",
       "      <td>0</td>\n",
       "      <td>0</td>\n",
       "      <td>0</td>\n",
       "      <td>0</td>\n",
       "      <td>0</td>\n",
       "      <td>0</td>\n",
       "      <td>0</td>\n",
       "      <td>0</td>\n",
       "      <td>0</td>\n",
       "      <td>0</td>\n",
       "      <td>0</td>\n",
       "      <td>0</td>\n",
       "      <td>0</td>\n",
       "    </tr>\n",
       "    <tr>\n",
       "      <th>3</th>\n",
       "      <td>1</td>\n",
       "      <td>0</td>\n",
       "      <td>0</td>\n",
       "      <td>0</td>\n",
       "      <td>0</td>\n",
       "      <td>0</td>\n",
       "      <td>0</td>\n",
       "      <td>0</td>\n",
       "      <td>0</td>\n",
       "      <td>0</td>\n",
       "      <td>0</td>\n",
       "      <td>0</td>\n",
       "      <td>0</td>\n",
       "      <td>0</td>\n",
       "      <td>0</td>\n",
       "      <td>0</td>\n",
       "      <td>0</td>\n",
       "      <td>0</td>\n",
       "      <td>0</td>\n",
       "      <td>0</td>\n",
       "    </tr>\n",
       "    <tr>\n",
       "      <th>4</th>\n",
       "      <td>0</td>\n",
       "      <td>0</td>\n",
       "      <td>0</td>\n",
       "      <td>0</td>\n",
       "      <td>1</td>\n",
       "      <td>0</td>\n",
       "      <td>0</td>\n",
       "      <td>0</td>\n",
       "      <td>0</td>\n",
       "      <td>0</td>\n",
       "      <td>0</td>\n",
       "      <td>0</td>\n",
       "      <td>0</td>\n",
       "      <td>0</td>\n",
       "      <td>0</td>\n",
       "      <td>0</td>\n",
       "      <td>0</td>\n",
       "      <td>0</td>\n",
       "      <td>0</td>\n",
       "      <td>0</td>\n",
       "    </tr>\n",
       "    <tr>\n",
       "      <th>...</th>\n",
       "      <td>...</td>\n",
       "      <td>...</td>\n",
       "      <td>...</td>\n",
       "      <td>...</td>\n",
       "      <td>...</td>\n",
       "      <td>...</td>\n",
       "      <td>...</td>\n",
       "      <td>...</td>\n",
       "      <td>...</td>\n",
       "      <td>...</td>\n",
       "      <td>...</td>\n",
       "      <td>...</td>\n",
       "      <td>...</td>\n",
       "      <td>...</td>\n",
       "      <td>...</td>\n",
       "      <td>...</td>\n",
       "      <td>...</td>\n",
       "      <td>...</td>\n",
       "      <td>...</td>\n",
       "      <td>...</td>\n",
       "    </tr>\n",
       "    <tr>\n",
       "      <th>48971</th>\n",
       "      <td>0</td>\n",
       "      <td>0</td>\n",
       "      <td>0</td>\n",
       "      <td>0</td>\n",
       "      <td>0</td>\n",
       "      <td>1</td>\n",
       "      <td>0</td>\n",
       "      <td>0</td>\n",
       "      <td>0</td>\n",
       "      <td>0</td>\n",
       "      <td>0</td>\n",
       "      <td>0</td>\n",
       "      <td>0</td>\n",
       "      <td>0</td>\n",
       "      <td>0</td>\n",
       "      <td>0</td>\n",
       "      <td>0</td>\n",
       "      <td>0</td>\n",
       "      <td>0</td>\n",
       "      <td>0</td>\n",
       "    </tr>\n",
       "    <tr>\n",
       "      <th>48972</th>\n",
       "      <td>0</td>\n",
       "      <td>0</td>\n",
       "      <td>0</td>\n",
       "      <td>0</td>\n",
       "      <td>0</td>\n",
       "      <td>1</td>\n",
       "      <td>0</td>\n",
       "      <td>0</td>\n",
       "      <td>0</td>\n",
       "      <td>0</td>\n",
       "      <td>0</td>\n",
       "      <td>0</td>\n",
       "      <td>0</td>\n",
       "      <td>0</td>\n",
       "      <td>0</td>\n",
       "      <td>0</td>\n",
       "      <td>0</td>\n",
       "      <td>0</td>\n",
       "      <td>0</td>\n",
       "      <td>0</td>\n",
       "    </tr>\n",
       "    <tr>\n",
       "      <th>48973</th>\n",
       "      <td>0</td>\n",
       "      <td>0</td>\n",
       "      <td>0</td>\n",
       "      <td>0</td>\n",
       "      <td>0</td>\n",
       "      <td>0</td>\n",
       "      <td>0</td>\n",
       "      <td>0</td>\n",
       "      <td>0</td>\n",
       "      <td>0</td>\n",
       "      <td>0</td>\n",
       "      <td>0</td>\n",
       "      <td>0</td>\n",
       "      <td>0</td>\n",
       "      <td>0</td>\n",
       "      <td>0</td>\n",
       "      <td>1</td>\n",
       "      <td>0</td>\n",
       "      <td>0</td>\n",
       "      <td>0</td>\n",
       "    </tr>\n",
       "    <tr>\n",
       "      <th>48974</th>\n",
       "      <td>0</td>\n",
       "      <td>0</td>\n",
       "      <td>0</td>\n",
       "      <td>0</td>\n",
       "      <td>0</td>\n",
       "      <td>0</td>\n",
       "      <td>0</td>\n",
       "      <td>0</td>\n",
       "      <td>0</td>\n",
       "      <td>0</td>\n",
       "      <td>0</td>\n",
       "      <td>0</td>\n",
       "      <td>0</td>\n",
       "      <td>0</td>\n",
       "      <td>0</td>\n",
       "      <td>0</td>\n",
       "      <td>1</td>\n",
       "      <td>0</td>\n",
       "      <td>0</td>\n",
       "      <td>0</td>\n",
       "    </tr>\n",
       "    <tr>\n",
       "      <th>48975</th>\n",
       "      <td>0</td>\n",
       "      <td>0</td>\n",
       "      <td>0</td>\n",
       "      <td>0</td>\n",
       "      <td>0</td>\n",
       "      <td>1</td>\n",
       "      <td>0</td>\n",
       "      <td>0</td>\n",
       "      <td>0</td>\n",
       "      <td>0</td>\n",
       "      <td>0</td>\n",
       "      <td>0</td>\n",
       "      <td>0</td>\n",
       "      <td>0</td>\n",
       "      <td>0</td>\n",
       "      <td>0</td>\n",
       "      <td>0</td>\n",
       "      <td>0</td>\n",
       "      <td>0</td>\n",
       "      <td>0</td>\n",
       "    </tr>\n",
       "  </tbody>\n",
       "</table>\n",
       "<p>48976 rows × 20 columns</p>\n",
       "</div>"
      ],
      "text/plain": [
       "       .net  android  asp.net  c  c#  c++  css  html  ios  iphone  java   \n",
       "0         0        0        1  0   0    0    0     0    0       0     0  \\\n",
       "1         1        0        0  0   1    0    0     0    0       0     0   \n",
       "2         0        0        0  0   0    1    0     0    0       0     0   \n",
       "3         1        0        0  0   0    0    0     0    0       0     0   \n",
       "4         0        0        0  0   1    0    0     0    0       0     0   \n",
       "...     ...      ...      ... ..  ..  ...  ...   ...  ...     ...   ...   \n",
       "48971     0        0        0  0   0    1    0     0    0       0     0   \n",
       "48972     0        0        0  0   0    1    0     0    0       0     0   \n",
       "48973     0        0        0  0   0    0    0     0    0       0     0   \n",
       "48974     0        0        0  0   0    0    0     0    0       0     0   \n",
       "48975     0        0        0  0   0    1    0     0    0       0     0   \n",
       "\n",
       "       javascript  jquery  mysql  objective-c  php  python  ruby   \n",
       "0               0       0      0            0    0       0     0  \\\n",
       "1               0       0      0            0    0       0     0   \n",
       "2               0       0      0            0    0       0     0   \n",
       "3               0       0      0            0    0       0     0   \n",
       "4               0       0      0            0    0       0     0   \n",
       "...           ...     ...    ...          ...  ...     ...   ...   \n",
       "48971           0       0      0            0    0       0     0   \n",
       "48972           0       0      0            0    0       0     0   \n",
       "48973           0       0      0            0    0       1     0   \n",
       "48974           0       0      0            0    0       1     0   \n",
       "48975           0       0      0            0    0       0     0   \n",
       "\n",
       "       ruby-on-rails  sql  \n",
       "0                  0    1  \n",
       "1                  0    0  \n",
       "2                  0    0  \n",
       "3                  0    0  \n",
       "4                  0    0  \n",
       "...              ...  ...  \n",
       "48971              0    0  \n",
       "48972              0    0  \n",
       "48973              0    0  \n",
       "48974              0    0  \n",
       "48975              0    0  \n",
       "\n",
       "[48976 rows x 20 columns]"
      ]
     },
     "execution_count": 22,
     "metadata": {},
     "output_type": "execute_result"
    }
   ],
   "source": [
    "pd.DataFrame(y,columns=multilabel.classes_)"
   ]
  },
  {
   "cell_type": "markdown",
   "id": "b8eb6001-1ef2-4afd-891e-0d793dfe566f",
   "metadata": {},
   "source": [
    "# Text Vectorization"
   ]
  },
  {
   "cell_type": "markdown",
   "id": "8f3398ff-e3a8-44aa-9cc7-44951f883fcf",
   "metadata": {
    "execution": {
     "iopub.execute_input": "2023-04-21T22:46:59.975216Z",
     "iopub.status.busy": "2023-04-21T22:46:59.974962Z",
     "iopub.status.idle": "2023-04-21T22:46:59.977931Z",
     "shell.execute_reply": "2023-04-21T22:46:59.977513Z",
     "shell.execute_reply.started": "2023-04-21T22:46:59.975203Z"
    },
    "tags": []
   },
   "source": [
    "\\begin{align*}\n",
    "tfidf(t,d,D) = tf(t,d) \\times idf(t,D)\n",
    "\\end{align*}"
   ]
  },
  {
   "cell_type": "code",
   "execution_count": 24,
   "id": "6df636e5-a61a-4c9d-9de3-bf2d499c9196",
   "metadata": {
    "execution": {
     "iopub.execute_input": "2023-04-21T22:47:23.483161Z",
     "iopub.status.busy": "2023-04-21T22:47:23.482639Z",
     "iopub.status.idle": "2023-04-21T22:47:23.489830Z",
     "shell.execute_reply": "2023-04-21T22:47:23.489374Z",
     "shell.execute_reply.started": "2023-04-21T22:47:23.483141Z"
    },
    "tags": []
   },
   "outputs": [
    {
     "data": {
      "text/html": [
       "<div>\n",
       "<style scoped>\n",
       "    .dataframe tbody tr th:only-of-type {\n",
       "        vertical-align: middle;\n",
       "    }\n",
       "\n",
       "    .dataframe tbody tr th {\n",
       "        vertical-align: top;\n",
       "    }\n",
       "\n",
       "    .dataframe thead th {\n",
       "        text-align: right;\n",
       "    }\n",
       "</style>\n",
       "<table border=\"1\" class=\"dataframe\">\n",
       "  <thead>\n",
       "    <tr style=\"text-align: right;\">\n",
       "      <th></th>\n",
       "      <th>Text</th>\n",
       "      <th>Tags</th>\n",
       "    </tr>\n",
       "  </thead>\n",
       "  <tbody>\n",
       "    <tr>\n",
       "      <th>2</th>\n",
       "      <td>aspnet site maps has anyone got experience cre...</td>\n",
       "      <td>[sql, asp.net]</td>\n",
       "    </tr>\n",
       "    <tr>\n",
       "      <th>4</th>\n",
       "      <td>adding scripting functionality to net applicat...</td>\n",
       "      <td>[c#, .net]</td>\n",
       "    </tr>\n",
       "    <tr>\n",
       "      <th>5</th>\n",
       "      <td>should i use nested classes in this case i am ...</td>\n",
       "      <td>[c++]</td>\n",
       "    </tr>\n",
       "    <tr>\n",
       "      <th>6</th>\n",
       "      <td>homegrown consumption of web services i have b...</td>\n",
       "      <td>[.net]</td>\n",
       "    </tr>\n",
       "    <tr>\n",
       "      <th>8</th>\n",
       "      <td>automatically update version number i would li...</td>\n",
       "      <td>[c#]</td>\n",
       "    </tr>\n",
       "  </tbody>\n",
       "</table>\n",
       "</div>"
      ],
      "text/plain": [
       "                                                Text            Tags\n",
       "2  aspnet site maps has anyone got experience cre...  [sql, asp.net]\n",
       "4  adding scripting functionality to net applicat...      [c#, .net]\n",
       "5  should i use nested classes in this case i am ...           [c++]\n",
       "6  homegrown consumption of web services i have b...          [.net]\n",
       "8  automatically update version number i would li...            [c#]"
      ]
     },
     "execution_count": 24,
     "metadata": {},
     "output_type": "execute_result"
    }
   ],
   "source": [
    "df.head()"
   ]
  },
  {
   "cell_type": "markdown",
   "id": "e8391e04-e0bd-4685-814e-203ad25be5fb",
   "metadata": {},
   "source": [
    "TfidfVectorizer principais parametros:\n",
    "* analyzer: define se as features deveraos ser palavras or n_gram characters. \n",
    "* max_features: define um numero máximo de features a serem utilizadas. Define o vocabulario no qual serao utilizados somente os top x termos ordenados em ordem descrescente de frequencia ( maior -> menor)\n",
    "* n_gram_range: limite inferior e superior do intervalo de n-valores para diferentes n-gramas a serem extraídos. \n",
    "* max_df: seleciona o limite superior para selecionar as palavras ( por ex: palavras com frequencia acima de x não serão selecionadas)\n",
    "* min_df: seleciona o limite inferior para selecionar as palavras (por ex: palavras com frequencia abaixo de y não serão selecionadas)\n",
    "\n",
    "\n"
   ]
  },
  {
   "cell_type": "code",
   "execution_count": 109,
   "id": "16bf9027-b97b-4060-80a6-5dfe73d35cab",
   "metadata": {
    "execution": {
     "iopub.execute_input": "2023-04-21T23:52:55.688704Z",
     "iopub.status.busy": "2023-04-21T23:52:55.688323Z",
     "iopub.status.idle": "2023-04-21T23:52:55.690877Z",
     "shell.execute_reply": "2023-04-21T23:52:55.690458Z",
     "shell.execute_reply.started": "2023-04-21T23:52:55.688690Z"
    },
    "tags": []
   },
   "outputs": [],
   "source": [
    "ngram_range=(1,3)"
   ]
  },
  {
   "cell_type": "code",
   "execution_count": 131,
   "id": "01c793d4-7c7e-4af7-a826-f7290ba2e528",
   "metadata": {
    "execution": {
     "iopub.execute_input": "2023-04-21T23:54:59.089916Z",
     "iopub.status.busy": "2023-04-21T23:54:59.089629Z",
     "iopub.status.idle": "2023-04-21T23:55:24.510533Z",
     "shell.execute_reply": "2023-04-21T23:55:24.510004Z",
     "shell.execute_reply.started": "2023-04-21T23:54:59.089902Z"
    },
    "tags": []
   },
   "outputs": [],
   "source": [
    "tfidf = TfidfVectorizer(analyzer='word',max_features=10000,stop_words='english',ngram_range=(1,3))\n",
    "\n",
    "X = tfidf.fit_transform(df['Text'])"
   ]
  },
  {
   "cell_type": "code",
   "execution_count": 132,
   "id": "ab641621-6944-4189-bd54-7d6699a29651",
   "metadata": {
    "execution": {
     "iopub.execute_input": "2023-04-21T23:55:24.511717Z",
     "iopub.status.busy": "2023-04-21T23:55:24.511360Z",
     "iopub.status.idle": "2023-04-21T23:55:24.514922Z",
     "shell.execute_reply": "2023-04-21T23:55:24.514485Z",
     "shell.execute_reply.started": "2023-04-21T23:55:24.511702Z"
    },
    "tags": []
   },
   "outputs": [
    {
     "data": {
      "text/plain": [
       "<48976x10000 sparse matrix of type '<class 'numpy.float64'>'\n",
       "\twith 2002390 stored elements in Compressed Sparse Row format>"
      ]
     },
     "execution_count": 132,
     "metadata": {},
     "output_type": "execute_result"
    }
   ],
   "source": [
    "X"
   ]
  },
  {
   "cell_type": "code",
   "execution_count": 133,
   "id": "f9d983a4-ae1d-4d90-af77-943f455507aa",
   "metadata": {
    "execution": {
     "iopub.execute_input": "2023-04-21T23:55:24.515729Z",
     "iopub.status.busy": "2023-04-21T23:55:24.515478Z",
     "iopub.status.idle": "2023-04-21T23:55:24.540612Z",
     "shell.execute_reply": "2023-04-21T23:55:24.540164Z",
     "shell.execute_reply.started": "2023-04-21T23:55:24.515716Z"
    },
    "tags": []
   },
   "outputs": [],
   "source": [
    "# tfidf.vocabulary_"
   ]
  },
  {
   "cell_type": "code",
   "execution_count": 134,
   "id": "8cb79887-af1d-4965-a09a-0e7d2b50bb34",
   "metadata": {
    "execution": {
     "iopub.execute_input": "2023-04-21T23:55:24.541780Z",
     "iopub.status.busy": "2023-04-21T23:55:24.541657Z",
     "iopub.status.idle": "2023-04-21T23:55:24.545947Z",
     "shell.execute_reply": "2023-04-21T23:55:24.545451Z",
     "shell.execute_reply.started": "2023-04-21T23:55:24.541768Z"
    },
    "tags": []
   },
   "outputs": [
    {
     "data": {
      "text/plain": [
       "((48976, 10000), (48976, 20))"
      ]
     },
     "execution_count": 134,
     "metadata": {},
     "output_type": "execute_result"
    }
   ],
   "source": [
    "X.shape, y.shape"
   ]
  },
  {
   "cell_type": "code",
   "execution_count": 135,
   "id": "a83d2589-2007-4644-83eb-b57acf643e75",
   "metadata": {
    "execution": {
     "iopub.execute_input": "2023-04-21T23:55:24.546521Z",
     "iopub.status.busy": "2023-04-21T23:55:24.546409Z",
     "iopub.status.idle": "2023-04-21T23:55:24.561337Z",
     "shell.execute_reply": "2023-04-21T23:55:24.560763Z",
     "shell.execute_reply.started": "2023-04-21T23:55:24.546510Z"
    },
    "tags": []
   },
   "outputs": [],
   "source": [
    "X_train, X_test, y_train, y_test = train_test_split(X,y,test_size=0.2,random_state=42)"
   ]
  },
  {
   "cell_type": "markdown",
   "id": "43f4e66e-128b-4aed-b1a3-26461ba203cd",
   "metadata": {
    "execution": {
     "iopub.execute_input": "2023-04-21T23:16:18.036018Z",
     "iopub.status.busy": "2023-04-21T23:16:18.035730Z",
     "iopub.status.idle": "2023-04-21T23:16:18.038407Z",
     "shell.execute_reply": "2023-04-21T23:16:18.037690Z",
     "shell.execute_reply.started": "2023-04-21T23:16:18.036003Z"
    },
    "tags": []
   },
   "source": [
    "# Build Model"
   ]
  },
  {
   "cell_type": "code",
   "execution_count": 136,
   "id": "261cc718-f2d3-4517-a56f-e6ede228a502",
   "metadata": {
    "execution": {
     "iopub.execute_input": "2023-04-21T23:55:24.562070Z",
     "iopub.status.busy": "2023-04-21T23:55:24.561954Z",
     "iopub.status.idle": "2023-04-21T23:55:24.564678Z",
     "shell.execute_reply": "2023-04-21T23:55:24.564257Z",
     "shell.execute_reply.started": "2023-04-21T23:55:24.562058Z"
    },
    "tags": []
   },
   "outputs": [],
   "source": [
    "# Sotchastic gradient descente learning\n",
    "sgd = SGDClassifier()\n",
    "\n",
    "# LogisticRegression() -> check solvers \n",
    "lr = LogisticRegression(solver='lbfgs')\n",
    "\n",
    "# Linear SVC\n",
    "svc = LinearSVC()\n",
    "\n",
    "\n",
    "\n"
   ]
  },
  {
   "cell_type": "markdown",
   "id": "4551038f-00e1-4e0d-a63b-3e11d32ce1d1",
   "metadata": {},
   "source": [
    "Os problemas de classificação multilabel devem ser avaliados usando medidas de desempenho diferentes dos problemas de classificação de rótulo único. Duas das métricas de desempenho mais comuns são a perda de hamming e a similaridade de Jaccard. A perda de Hamming é a fração média de rótulos incorretos. Observe que a perda de hamming é uma função de perda e que a pontuação perfeita é 0. A similaridade de Jaccard, ou o índice de Jaccard, é o tamanho da interseção dos rótulos previstos e os rótulos verdadeiros dividido pelo tamanho da união do previsto e verdadeiro rótulos. Ele varia de 0 a 1, e 1 é a pontuação perfeita."
   ]
  },
  {
   "cell_type": "code",
   "execution_count": 137,
   "id": "006f7c28-cdea-4b6a-86cb-e2245d599b00",
   "metadata": {
    "execution": {
     "iopub.execute_input": "2023-04-21T23:55:24.565215Z",
     "iopub.status.busy": "2023-04-21T23:55:24.565107Z",
     "iopub.status.idle": "2023-04-21T23:55:24.567882Z",
     "shell.execute_reply": "2023-04-21T23:55:24.567473Z",
     "shell.execute_reply.started": "2023-04-21T23:55:24.565205Z"
    },
    "tags": []
   },
   "outputs": [],
   "source": [
    "# for classifier in [sgd,lr,svc]:\n",
    "#     clf = OneVsRestClassifier(classifier)\n",
    "#     clf.fit(X_train,y_train)\n",
    "    \n",
    "    \n",
    "    "
   ]
  },
  {
   "cell_type": "code",
   "execution_count": 138,
   "id": "f86d15a1-7ec9-4397-8e84-312d2128600d",
   "metadata": {
    "execution": {
     "iopub.execute_input": "2023-04-21T23:55:24.568543Z",
     "iopub.status.busy": "2023-04-21T23:55:24.568434Z",
     "iopub.status.idle": "2023-04-21T23:55:24.585829Z",
     "shell.execute_reply": "2023-04-21T23:55:24.585386Z",
     "shell.execute_reply.started": "2023-04-21T23:55:24.568532Z"
    },
    "tags": []
   },
   "outputs": [],
   "source": [
    "def jaccard_score(y_true,y_pred):\n",
    "    score = np.minimum(y_true,y_pred).sum(axis=1)/np.maximum(y_true,y_pred).sum(axis=1)\n",
    "    return score.mean()*100\n",
    "\n",
    "def print_score(y_pred,clf):\n",
    "    print('CLF:',clf.__class__.__name__)\n",
    "    print('Jaccard Score:{}'.format(jaccard_score(y_test,y_pred)))\n",
    "    print('---')\n",
    "    \n",
    "    "
   ]
  },
  {
   "cell_type": "code",
   "execution_count": 139,
   "id": "0e7937dc-1add-46cf-bb4f-1e3cc4441902",
   "metadata": {
    "execution": {
     "iopub.execute_input": "2023-04-21T23:55:24.586677Z",
     "iopub.status.busy": "2023-04-21T23:55:24.586421Z",
     "iopub.status.idle": "2023-04-21T23:55:24.588906Z",
     "shell.execute_reply": "2023-04-21T23:55:24.588568Z",
     "shell.execute_reply.started": "2023-04-21T23:55:24.586664Z"
    },
    "tags": []
   },
   "outputs": [],
   "source": [
    "# NO NGRAM RANGE"
   ]
  },
  {
   "cell_type": "code",
   "execution_count": 118,
   "id": "b0e6715c-8d9b-4309-a936-cc19f6c8061b",
   "metadata": {
    "execution": {
     "iopub.execute_input": "2023-04-21T23:53:14.816960Z",
     "iopub.status.busy": "2023-04-21T23:53:14.816594Z",
     "iopub.status.idle": "2023-04-21T23:53:25.613119Z",
     "shell.execute_reply": "2023-04-21T23:53:25.612761Z",
     "shell.execute_reply.started": "2023-04-21T23:53:14.816946Z"
    },
    "tags": []
   },
   "outputs": [
    {
     "name": "stdout",
     "output_type": "stream",
     "text": [
      "CLF: SGDClassifier\n",
      "Jaccard Score:51.834422213148216\n",
      "---\n",
      "CLF: LogisticRegression\n",
      "Jaccard Score:50.79573295222539\n",
      "---\n",
      "CLF: LinearSVC\n",
      "Jaccard Score:62.992888253709\n",
      "---\n"
     ]
    }
   ],
   "source": [
    "for classifier in [sgd,lr,svc]:\n",
    "    clf = OneVsRestClassifier(classifier)\n",
    "    clf.fit(X_train,y_train)\n",
    "    y_pred = clf.predict(X_test)\n",
    "    print_score(y_pred,classifier)"
   ]
  },
  {
   "cell_type": "code",
   "execution_count": 129,
   "id": "2444ce7a-422c-4516-8f2d-f2df7b2f49ec",
   "metadata": {
    "execution": {
     "iopub.execute_input": "2023-04-21T23:54:24.941242Z",
     "iopub.status.busy": "2023-04-21T23:54:24.940898Z",
     "iopub.status.idle": "2023-04-21T23:54:24.943326Z",
     "shell.execute_reply": "2023-04-21T23:54:24.942943Z",
     "shell.execute_reply.started": "2023-04-21T23:54:24.941223Z"
    },
    "tags": []
   },
   "outputs": [],
   "source": [
    "# (1,2) N GRAM RANGE"
   ]
  },
  {
   "cell_type": "code",
   "execution_count": 130,
   "id": "b049db76-ca83-4c7a-befd-790bf69fd043",
   "metadata": {
    "execution": {
     "iopub.execute_input": "2023-04-21T23:54:31.182211Z",
     "iopub.status.busy": "2023-04-21T23:54:31.181857Z",
     "iopub.status.idle": "2023-04-21T23:54:42.303973Z",
     "shell.execute_reply": "2023-04-21T23:54:42.303563Z",
     "shell.execute_reply.started": "2023-04-21T23:54:31.182190Z"
    },
    "tags": []
   },
   "outputs": [
    {
     "name": "stdout",
     "output_type": "stream",
     "text": [
      "CLF: SGDClassifier\n",
      "Jaccard Score:52.121954539267726\n",
      "---\n",
      "CLF: LogisticRegression\n",
      "Jaccard Score:51.010106165781956\n",
      "---\n",
      "CLF: LinearSVC\n",
      "Jaccard Score:62.224717571798\n",
      "---\n"
     ]
    }
   ],
   "source": [
    "for classifier in [sgd,lr,svc]:\n",
    "    clf = OneVsRestClassifier(classifier)\n",
    "    clf.fit(X_train,y_train)\n",
    "    y_pred = clf.predict(X_test)\n",
    "    print_score(y_pred,classifier)"
   ]
  },
  {
   "cell_type": "code",
   "execution_count": 140,
   "id": "6e0fcc8f-cda9-4012-9d7a-0aa03b0fb535",
   "metadata": {
    "execution": {
     "iopub.execute_input": "2023-04-21T23:55:24.590098Z",
     "iopub.status.busy": "2023-04-21T23:55:24.589834Z",
     "iopub.status.idle": "2023-04-21T23:55:36.265146Z",
     "shell.execute_reply": "2023-04-21T23:55:36.264728Z",
     "shell.execute_reply.started": "2023-04-21T23:55:24.590081Z"
    },
    "tags": []
   },
   "outputs": [
    {
     "name": "stdout",
     "output_type": "stream",
     "text": [
      "CLF: SGDClassifier\n",
      "Jaccard Score:52.36780318497346\n",
      "---\n",
      "CLF: LogisticRegression\n",
      "Jaccard Score:51.07901184156799\n",
      "---\n",
      "CLF: LinearSVC\n",
      "Jaccard Score:62.1898393902273\n",
      "---\n"
     ]
    }
   ],
   "source": [
    "for classifier in [sgd,lr,svc]:\n",
    "    clf = OneVsRestClassifier(classifier)\n",
    "    clf.fit(X_train,y_train)\n",
    "    y_pred = clf.predict(X_test)\n",
    "    print_score(y_pred,classifier)"
   ]
  },
  {
   "cell_type": "markdown",
   "id": "4edeb85a-f398-45d1-bab9-7040cce684ea",
   "metadata": {
    "execution": {
     "iopub.execute_input": "2023-04-21T23:46:18.667226Z",
     "iopub.status.busy": "2023-04-21T23:46:18.667003Z",
     "iopub.status.idle": "2023-04-21T23:46:18.669413Z",
     "shell.execute_reply": "2023-04-21T23:46:18.668990Z",
     "shell.execute_reply.started": "2023-04-21T23:46:18.667213Z"
    },
    "tags": []
   },
   "source": [
    "## Model Test with Real Data"
   ]
  },
  {
   "cell_type": "code",
   "execution_count": 95,
   "id": "0969f1d6-bf50-4cee-92a3-205e122a4916",
   "metadata": {
    "execution": {
     "iopub.execute_input": "2023-04-21T23:47:03.636203Z",
     "iopub.status.busy": "2023-04-21T23:47:03.635871Z",
     "iopub.status.idle": "2023-04-21T23:47:03.638706Z",
     "shell.execute_reply": "2023-04-21T23:47:03.638173Z",
     "shell.execute_reply.started": "2023-04-21T23:47:03.636183Z"
    },
    "tags": []
   },
   "outputs": [],
   "source": [
    "x = ['how to write ml code in python and java i have data but do not know how to do it']"
   ]
  },
  {
   "cell_type": "code",
   "execution_count": 96,
   "id": "022d3e7f-032f-451b-aaf4-33694c1967bc",
   "metadata": {
    "execution": {
     "iopub.execute_input": "2023-04-21T23:47:19.527319Z",
     "iopub.status.busy": "2023-04-21T23:47:19.526980Z",
     "iopub.status.idle": "2023-04-21T23:47:19.532178Z",
     "shell.execute_reply": "2023-04-21T23:47:19.531858Z",
     "shell.execute_reply.started": "2023-04-21T23:47:19.527305Z"
    },
    "tags": []
   },
   "outputs": [
    {
     "data": {
      "text/plain": [
       "array([[0, 0, 0, 0, 0, 0, 0, 0, 0, 0, 1, 0, 0, 0, 0, 0, 1, 0, 0, 0]])"
      ]
     },
     "execution_count": 96,
     "metadata": {},
     "output_type": "execute_result"
    }
   ],
   "source": [
    "xt = tfidf.transform(x)\n",
    "clf.predict(xt)"
   ]
  },
  {
   "cell_type": "code",
   "execution_count": 97,
   "id": "074bc606-d533-4843-bfd4-e46e77fddf4b",
   "metadata": {
    "execution": {
     "iopub.execute_input": "2023-04-21T23:47:41.047028Z",
     "iopub.status.busy": "2023-04-21T23:47:41.046809Z",
     "iopub.status.idle": "2023-04-21T23:47:41.051967Z",
     "shell.execute_reply": "2023-04-21T23:47:41.051515Z",
     "shell.execute_reply.started": "2023-04-21T23:47:41.047014Z"
    },
    "tags": []
   },
   "outputs": [
    {
     "data": {
      "text/plain": [
       "[('java', 'python')]"
      ]
     },
     "execution_count": 97,
     "metadata": {},
     "output_type": "execute_result"
    }
   ],
   "source": [
    "multilabel.inverse_transform(clf.predict(xt))"
   ]
  },
  {
   "cell_type": "code",
   "execution_count": null,
   "id": "01d32ddd-cc0b-43ef-896f-5c6b2c19188c",
   "metadata": {},
   "outputs": [],
   "source": []
  },
  {
   "cell_type": "code",
   "execution_count": null,
   "id": "70204cf2-801a-454c-8a7c-3820ae16d404",
   "metadata": {},
   "outputs": [],
   "source": []
  }
 ],
 "metadata": {
  "kernelspec": {
   "display_name": "Python 3 (ipykernel)",
   "language": "python",
   "name": "python3"
  },
  "language_info": {
   "codemirror_mode": {
    "name": "ipython",
    "version": 3
   },
   "file_extension": ".py",
   "mimetype": "text/x-python",
   "name": "python",
   "nbconvert_exporter": "python",
   "pygments_lexer": "ipython3",
   "version": "3.10.6"
  }
 },
 "nbformat": 4,
 "nbformat_minor": 5
}
