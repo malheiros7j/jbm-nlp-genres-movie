{
 "cells": [
  {
   "cell_type": "markdown",
   "id": "31da964d-9925-4675-860a-a83f851f579d",
   "metadata": {
    "execution": {
     "iopub.execute_input": "2023-04-20T21:07:41.563685Z",
     "iopub.status.busy": "2023-04-20T21:07:41.563325Z",
     "iopub.status.idle": "2023-04-20T21:07:41.565640Z",
     "shell.execute_reply": "2023-04-20T21:07:41.565202Z",
     "shell.execute_reply.started": "2023-04-20T21:07:41.563671Z"
    },
    "tags": []
   },
   "source": [
    "# Case Técnico Fácil Espaider: Classificação Multilabel de gêneros de filmes baseado em sinopse"
   ]
  },
  {
   "cell_type": "markdown",
   "id": "9a5e4239-1782-4a21-8e28-c11ecbd28bf9",
   "metadata": {
    "execution": {
     "iopub.execute_input": "2023-04-20T21:07:57.836189Z",
     "iopub.status.busy": "2023-04-20T21:07:57.835902Z",
     "iopub.status.idle": "2023-04-20T21:07:57.838689Z",
     "shell.execute_reply": "2023-04-20T21:07:57.838290Z",
     "shell.execute_reply.started": "2023-04-20T21:07:57.836176Z"
    },
    "tags": []
   },
   "source": [
    "## Planejamento da Solução"
   ]
  },
  {
   "cell_type": "markdown",
   "id": "94778146-b730-447a-a301-5dab0804bdbd",
   "metadata": {
    "execution": {
     "iopub.execute_input": "2023-04-20T21:08:11.126920Z",
     "iopub.status.busy": "2023-04-20T21:08:11.126585Z",
     "iopub.status.idle": "2023-04-20T21:08:11.128684Z",
     "shell.execute_reply": "2023-04-20T21:08:11.128391Z",
     "shell.execute_reply.started": "2023-04-20T21:08:11.126907Z"
    },
    "tags": []
   },
   "source": [
    "### Entrada"
   ]
  },
  {
   "cell_type": "markdown",
   "id": "f0815c72-7edf-421f-96ae-d46e61d2b4c8",
   "metadata": {
    "execution": {
     "iopub.execute_input": "2023-04-20T21:13:36.503967Z",
     "iopub.status.busy": "2023-04-20T21:13:36.503684Z",
     "iopub.status.idle": "2023-04-20T21:13:36.507108Z",
     "shell.execute_reply": "2023-04-20T21:13:36.506444Z",
     "shell.execute_reply.started": "2023-04-20T21:13:36.503954Z"
    },
    "tags": []
   },
   "source": [
    "* Base de metadados de filmes com as característica de cada um dos filmes e seus respectivos gêneros atribuídos.\n",
    "* Sinopse dos filmes com identificador usado para se referenciar a base de metadados dos filmes.\n",
    "                                                "
   ]
  },
  {
   "cell_type": "markdown",
   "id": "f99a46aa-b633-4e5c-8ba4-5b58662c96f3",
   "metadata": {
    "execution": {
     "iopub.execute_input": "2023-04-20T21:08:14.941465Z",
     "iopub.status.busy": "2023-04-20T21:08:14.941113Z",
     "iopub.status.idle": "2023-04-20T21:08:14.943263Z",
     "shell.execute_reply": "2023-04-20T21:08:14.942964Z",
     "shell.execute_reply.started": "2023-04-20T21:08:14.941452Z"
    },
    "tags": []
   },
   "source": [
    "### Saída"
   ]
  },
  {
   "cell_type": "markdown",
   "id": "1b72f4a5-7d07-4920-b863-a9297c752f00",
   "metadata": {
    "execution": {
     "iopub.execute_input": "2023-04-20T21:08:45.967775Z",
     "iopub.status.busy": "2023-04-20T21:08:45.967562Z",
     "iopub.status.idle": "2023-04-20T21:08:45.970623Z",
     "shell.execute_reply": "2023-04-20T21:08:45.970168Z",
     "shell.execute_reply.started": "2023-04-20T21:08:45.967761Z"
    },
    "tags": []
   },
   "source": [
    "* Qual formato de entrega da solução?\n",
    "    * 1 Jupyter Notebooks, onde o projeto foi desenvolvido por meio de ciclos, com objetivo de gerenciar e planejar os próximos passos.\n",
    "    * 2 Modelo em produção disponibilizado por um BOT no Telegram que realiza a consulta do nosso modelo e baseado na entrada retorna os labels de gêneros preditos.\n",
    "    \n",
    "    \n"
   ]
  },
  {
   "cell_type": "markdown",
   "id": "aeff9901-2046-4c84-8285-8a10e0899e37",
   "metadata": {
    "execution": {
     "iopub.execute_input": "2023-04-20T21:09:45.224854Z",
     "iopub.status.busy": "2023-04-20T21:09:45.224578Z",
     "iopub.status.idle": "2023-04-20T21:09:45.227641Z",
     "shell.execute_reply": "2023-04-20T21:09:45.227180Z",
     "shell.execute_reply.started": "2023-04-20T21:09:45.224841Z"
    },
    "tags": []
   },
   "source": [
    "Metodologia\n",
    "* CRISP-DS, metodologia ágil para desenvolvimento de projetos de ciência de dados (método cíclico)\n",
    "* Abordagem Classificação MultiLabel utilizando NLP\n"
   ]
  },
  {
   "cell_type": "markdown",
   "id": "725b0587-c410-438c-979c-c54a54c8aad7",
   "metadata": {
    "execution": {
     "iopub.execute_input": "2023-04-20T21:10:12.032202Z",
     "iopub.status.busy": "2023-04-20T21:10:12.031926Z",
     "iopub.status.idle": "2023-04-20T21:10:12.034757Z",
     "shell.execute_reply": "2023-04-20T21:10:12.034341Z",
     "shell.execute_reply.started": "2023-04-20T21:10:12.032189Z"
    },
    "tags": []
   },
   "source": [
    "Ferraments Utilizadas\n",
    "* Python 3.10.6, Jupyter-Lab, Poetry, Git, Github."
   ]
  },
  {
   "cell_type": "markdown",
   "id": "c1d6a389-c425-4b92-a5ac-3fece5f6ea58",
   "metadata": {
    "execution": {
     "iopub.execute_input": "2023-04-20T21:18:17.637949Z",
     "iopub.status.busy": "2023-04-20T21:18:17.637659Z",
     "iopub.status.idle": "2023-04-20T21:18:17.640696Z",
     "shell.execute_reply": "2023-04-20T21:18:17.640133Z",
     "shell.execute_reply.started": "2023-04-20T21:18:17.637936Z"
    },
    "tags": []
   },
   "source": [
    "## Implementações realizadas na Sprint"
   ]
  },
  {
   "cell_type": "markdown",
   "id": "9e14b53a-bebf-4551-92d8-f11a4acbd3c1",
   "metadata": {
    "execution": {
     "iopub.execute_input": "2023-04-20T21:18:29.143100Z",
     "iopub.status.busy": "2023-04-20T21:18:29.142776Z",
     "iopub.status.idle": "2023-04-20T21:18:29.145387Z",
     "shell.execute_reply": "2023-04-20T21:18:29.144997Z",
     "shell.execute_reply.started": "2023-04-20T21:18:29.143087Z"
    },
    "tags": []
   },
   "source": [
    "### Ciclo 1"
   ]
  },
  {
   "cell_type": "markdown",
   "id": "1fa98894-e16c-40a6-bd0a-1746ba98a9ae",
   "metadata": {
    "execution": {
     "iopub.execute_input": "2023-04-20T21:21:18.918737Z",
     "iopub.status.busy": "2023-04-20T21:21:18.918463Z",
     "iopub.status.idle": "2023-04-20T21:21:18.921489Z",
     "shell.execute_reply": "2023-04-20T21:21:18.921072Z",
     "shell.execute_reply.started": "2023-04-20T21:21:18.918724Z"
    },
    "tags": []
   },
   "source": [
    "* Entendimento do problema.\n",
    "* Importações de Bibliotecas e Funções Auxiliares.\n",
    "* Leitura e Entendimento dos Dados.\n",
    "* Descrição dos dados.\n",
    "* Filtragem das variáveis que serão utilizadas no modelo.\n",
    "* Análise Exploratória da distribuição dos gêneros de filmes.\n",
    "* Featuring Enginerring (Bag of Words utilizando tfidf)\n",
    "* Metrics Definition\n",
    "* Testing New Data\n",
    "\n"
   ]
  },
  {
   "cell_type": "markdown",
   "id": "93a2d96e-9db0-4b9a-a937-d291efa15827",
   "metadata": {
    "execution": {
     "iopub.execute_input": "2023-04-20T21:07:36.797984Z",
     "iopub.status.busy": "2023-04-20T21:07:36.797760Z",
     "iopub.status.idle": "2023-04-20T21:07:36.800152Z",
     "shell.execute_reply": "2023-04-20T21:07:36.799712Z",
     "shell.execute_reply.started": "2023-04-20T21:07:36.797971Z"
    },
    "tags": []
   },
   "source": [
    "# 0.0 Imports and Helper Functions"
   ]
  },
  {
   "cell_type": "code",
   "execution_count": 1,
   "id": "51035426-8270-44f4-a6d0-d5f60607bd2d",
   "metadata": {
    "execution": {
     "iopub.execute_input": "2023-04-26T03:20:21.449452Z",
     "iopub.status.busy": "2023-04-26T03:20:21.449187Z",
     "iopub.status.idle": "2023-04-26T03:20:22.217290Z",
     "shell.execute_reply": "2023-04-26T03:20:22.216869Z",
     "shell.execute_reply.started": "2023-04-26T03:20:21.449438Z"
    },
    "tags": []
   },
   "outputs": [],
   "source": [
    "import pandas as pd\n",
    "import numpy as np\n",
    "import csv\n",
    "import json\n",
    "import seaborn as sns\n",
    "import unicodedata\n",
    "import warnings\n",
    "import pickle\n",
    "import re\n",
    "\n",
    "from tqdm import tqdm\n",
    "\n",
    "from matplotlib import pyplot as plt\n",
    "from IPython.core.display import HTML\n",
    "\n",
    "from wordcloud import WordCloud, STOPWORDS, ImageColorGenerator\n",
    "import nltk\n",
    "#nltk.download('stopwords')\n",
    "from nltk.corpus   import stopwords\n",
    "from nltk.stem     import SnowballStemmer\n",
    "from nltk.tokenize import RegexpTokenizer\n",
    "stop_words = set(stopwords.words('english'))\n",
    "\n",
    "from sklearn.preprocessing import Normalizer\n",
    "from sklearn.preprocessing import MultiLabelBinarizer\n",
    "\n",
    "\n",
    "from sklearn.metrics import accuracy_score, precision_score, recall_score,f1_score,hamming_loss,jaccard_score,make_scorer\n",
    "\n",
    "from sklearn.model_selection import cross_validate\n",
    "from sklearn.model_selection import KFold\n",
    "from sklearn.model_selection import train_test_split\n",
    "\n",
    "from sklearn.feature_extraction.text import TfidfVectorizer\n",
    "\n",
    "\n",
    "from sklearn.multiclass import OneVsRestClassifier\n",
    "from sklearn.linear_model import SGDClassifier\n",
    "from sklearn.linear_model import LogisticRegression\n",
    "from sklearn.svm import LinearSVC\n",
    "from sklearn.naive_bayes import MultinomialNB\n"
   ]
  },
  {
   "cell_type": "code",
   "execution_count": 2,
   "id": "e94a7f72-9154-4115-9ee8-caf75485d2c3",
   "metadata": {
    "execution": {
     "iopub.execute_input": "2023-04-26T03:20:22.706046Z",
     "iopub.status.busy": "2023-04-26T03:20:22.705545Z",
     "iopub.status.idle": "2023-04-26T03:20:22.707938Z",
     "shell.execute_reply": "2023-04-26T03:20:22.707568Z",
     "shell.execute_reply.started": "2023-04-26T03:20:22.706031Z"
    },
    "tags": []
   },
   "outputs": [],
   "source": [
    "# stop_words_file = '../data/stopwords.txt'"
   ]
  },
  {
   "cell_type": "code",
   "execution_count": 3,
   "id": "bc8ce810-cce2-462e-89d9-bd24cf707a7e",
   "metadata": {
    "execution": {
     "iopub.execute_input": "2023-04-26T03:20:23.026965Z",
     "iopub.status.busy": "2023-04-26T03:20:23.026682Z",
     "iopub.status.idle": "2023-04-26T03:20:23.028893Z",
     "shell.execute_reply": "2023-04-26T03:20:23.028531Z",
     "shell.execute_reply.started": "2023-04-26T03:20:23.026952Z"
    },
    "tags": []
   },
   "outputs": [],
   "source": [
    "# with open(stop_words_file, 'r') as file:\n",
    "#     stop_words = set(file.read().split())"
   ]
  },
  {
   "cell_type": "markdown",
   "id": "accac51c-b7e9-4205-b7ef-62c634c34ebc",
   "metadata": {
    "execution": {
     "iopub.execute_input": "2023-04-19T23:09:17.660676Z",
     "iopub.status.busy": "2023-04-19T23:09:17.660398Z",
     "iopub.status.idle": "2023-04-19T23:09:17.662567Z",
     "shell.execute_reply": "2023-04-19T23:09:17.662187Z",
     "shell.execute_reply.started": "2023-04-19T23:09:17.660662Z"
    },
    "tags": []
   },
   "source": [
    "## 0.1 Auxiliar Functions"
   ]
  },
  {
   "cell_type": "code",
   "execution_count": 4,
   "id": "f0a3947e-2301-46b5-90ee-b042f79468cd",
   "metadata": {
    "execution": {
     "iopub.execute_input": "2023-04-26T03:20:24.208381Z",
     "iopub.status.busy": "2023-04-26T03:20:24.208133Z",
     "iopub.status.idle": "2023-04-26T03:20:24.227053Z",
     "shell.execute_reply": "2023-04-26T03:20:24.226635Z",
     "shell.execute_reply.started": "2023-04-26T03:20:24.208369Z"
    },
    "tags": []
   },
   "outputs": [
    {
     "data": {
      "text/html": [
       "<style>.container {width:100% !important;} </style>"
      ],
      "text/plain": [
       "<IPython.core.display.HTML object>"
      ]
     },
     "metadata": {},
     "output_type": "display_data"
    }
   ],
   "source": [
    "def jupyter_settings():\n",
    "    %matplotlib inline\n",
    "    #%pylab inline\n",
    "    \n",
    "    plt.style.use('bmh')\n",
    "    plt.rcParams['figure.figsize'] = [25,12]\n",
    "    plt.rcParams['font.size'] = 24\n",
    "    \n",
    "    display(HTML ('<style>.container {width:100% !important;} </style>') )\n",
    "    pd.options.display.max_columns=None\n",
    "    pd.options.display.max_rows = None\n",
    "    pd.set_option('display.expand_frame_repr',False)\n",
    "    pd.set_option('display.float_format', lambda x: '%.4f' % x)\n",
    "    \n",
    "    sns.set()\n",
    "    \n",
    "jupyter_settings()\n",
    "\n",
    "# Contraction to Full Word\n",
    "def cont_to_exp(x):\n",
    "    if type(x) is str:\n",
    "        for key in contractions:\n",
    "            value=contractions[key]\n",
    "            x=x.replace(key,value)\n",
    "        return x\n",
    "    else:\n",
    "        return x\n",
    "    \n",
    "def freq_words(x, terms = 30):\n",
    "    all_words = ' '.join([text for text in x]) \n",
    "    all_words = all_words.split()\n",
    "    fdist = nltk.FreqDist(all_words)\n",
    "    words_df = pd.DataFrame({'word':list(fdist.keys()), 'count':list(fdist.values())}) \n",
    "    \n",
    "    # selecting top 20 most frequent words \n",
    "    d = words_df.nlargest(columns=\"count\", n = terms) \n",
    "\n",
    "    # visualize words and frequencies\n",
    "    plt.figure(figsize=(12,15)) \n",
    "    ax = sns.barplot(data=d, x= \"count\", y = \"word\") \n",
    "    ax.set(ylabel = 'Word') \n",
    "    plt.show()\n",
    "    \n",
    "    \n",
    "def remove_accented_chars(x):\n",
    "    x = unicodedata.normalize('NFKD', x).encode('ascii', 'ignore').decode('utf-8', 'ignore')\n",
    "    return x\n",
    "\n",
    "def remove_stopwords(text):\n",
    "    no_stopword_text = [w for w in text.split() if not w in stop_words]\n",
    "    return ' '.join(no_stopword_text)\n",
    "\n",
    "\n",
    "def multilabel_metrics(model,y_true,y_pred):\n",
    "   \n",
    "    precision = precision_score(y_true,y_pred,average='weighted',zero_division=1)\n",
    "    recall = recall_score(y_true,y_pred,average='weighted',zero_division=1)\n",
    "    f1 = f1_score(y_true,y_pred,average='weighted',zero_division=1)\n",
    "    hamming = hamming_loss(y_true,y_pred)\n",
    "    jaccard = jaccard_score(y_true,y_pred,average='weighted',zero_division=1)\n",
    "    \n",
    "    \n",
    "    model_name = model.__class__.__name__\n",
    "    estimator_name = model.estimator.__class__.__name__\n",
    "    full_name = '_'.join([model_name, estimator_name])\n",
    "    \n",
    "    return pd.DataFrame({'Model Name':full_name,\n",
    "                         'precision': precision,\n",
    "                         'recall': recall,\n",
    "                         'f1_score': f1,\n",
    "                         'hamming_loss': hamming,\n",
    "                         'jaccard_score': jaccard},index=[0])\n",
    "\n",
    "\n",
    "# Initialize stemmer and tokenizer\n",
    "stemmer = SnowballStemmer(\"english\")\n",
    "tokenizer = RegexpTokenizer(r'\\w+')\n",
    "\n",
    "\n",
    "def tokenize_and_stem(text):\n",
    "    # Tokenize the text into individual words\n",
    "    tokens = tokenizer.tokenize(text.lower())\n",
    "    \n",
    "    # Apply the Snowball stemmer to each word\n",
    "    stemmed_tokens = [stemmer.stem(word) for word in tokens]\n",
    "    \n",
    "    return stemmed_tokens\n",
    "\n",
    "\n",
    "def clean_text(text):\n",
    "    \n",
    "    # Remove Url\n",
    "    text = re.sub(r'''(?i)\\b((?:https?://|www\\d{0,3}[.]|[a-z0-9.\\-]+[.][a-z]{2,4}/)(?:[^\\s()<>]+|\\(([^\\s()<>]+|(\\([^\\s()<>]+\\)))*\\))+(?:\\(([^\\s()<>]+|(\\([^\\s()<>]+\\)))*\\)|[^\\s`!()\\[\\]{};:'\".,<>?«»“”‘’]))''', \" \", text)\n",
    "    \n",
    "    #Remove tudo entre tag <ref }\n",
    "    text = re.sub(r'<ref.*?}}', '', text)\n",
    "    \n",
    "    # lower case\n",
    "    text = text.lower()\n",
    "    \n",
    "    # Remove Contraction and transform into full word\n",
    "    text = cont_to_exp(text)\n",
    "    \n",
    "    # Remove Special Chars or punctuation\n",
    "    text = re.sub('[^A-Z a-z 0-9-]+', '',text)\n",
    "    \n",
    "    # Removed Accented Chars\n",
    "    text = remove_accented_chars(text)\n",
    "    \n",
    "    # Remove Stopwords\n",
    "    text = remove_stopwords(text)\n",
    "    \n",
    "    # Remove all non alphabeticall\n",
    "    text = re.sub('[^a-zA-Z]',' ',text)\n",
    "    \n",
    "    # Removed duplicated spaces\n",
    "    text = \" \".join(text.split())\n",
    "    \n",
    "    # Remove numbers in form of text\n",
    "    text = re.sub(r'\\b(zero|one|two|three|four|five|six|seven|eight|nine|ten|eleven|twelve|thirteen|fourteen|fifteen|sixteen|seventeen|eighteen|nineteen|twenty|thirty|forty|fifty|sixty|seventy|eighty|ninety|hundred)\\b', '', text)\n",
    "    \n",
    "    return text\n",
    "\n",
    "def predict_genres(model,text):\n",
    "    text = clean_text(text)\n",
    "    text_vec = tfidf.transform([text])\n",
    "    text_vec = normalizer.fit_transform(text_vec)\n",
    "    text_pred = model.predict(text_vec)\n",
    "    \n",
    "    return multilabel.inverse_transform(text_pred)\n"
   ]
  },
  {
   "cell_type": "markdown",
   "id": "f98467e0-e2d9-4e2f-9dca-eef032152a63",
   "metadata": {
    "execution": {
     "iopub.execute_input": "2023-04-19T22:35:11.033114Z",
     "iopub.status.busy": "2023-04-19T22:35:11.032686Z",
     "iopub.status.idle": "2023-04-19T22:35:11.035338Z",
     "shell.execute_reply": "2023-04-19T22:35:11.034962Z",
     "shell.execute_reply.started": "2023-04-19T22:35:11.033094Z"
    },
    "tags": []
   },
   "source": [
    "# 1.0 Data Description"
   ]
  },
  {
   "cell_type": "markdown",
   "id": "3a4c55fa-9bd5-41fe-a436-4aa54b2dab14",
   "metadata": {
    "tags": []
   },
   "source": [
    "## 1.1 Leitura Dados dos Filmes"
   ]
  },
  {
   "cell_type": "code",
   "execution_count": 5,
   "id": "425af962-2f6f-4644-acef-cbf096b98c54",
   "metadata": {
    "execution": {
     "iopub.execute_input": "2023-04-25T18:28:12.803920Z",
     "iopub.status.busy": "2023-04-25T18:28:12.803646Z",
     "iopub.status.idle": "2023-04-25T18:28:12.963395Z",
     "shell.execute_reply": "2023-04-25T18:28:12.962931Z",
     "shell.execute_reply.started": "2023-04-25T18:28:12.803906Z"
    },
    "tags": []
   },
   "outputs": [],
   "source": [
    "df1 = pd.read_csv(\"../data/movie.metadata.tsv\", sep = '\\t', header = None)"
   ]
  },
  {
   "cell_type": "markdown",
   "id": "19afb0e9-5905-4518-9396-97712e4a9fd7",
   "metadata": {
    "execution": {
     "iopub.execute_input": "2023-04-19T22:48:50.890600Z",
     "iopub.status.busy": "2023-04-19T22:48:50.890321Z",
     "iopub.status.idle": "2023-04-19T22:48:50.892535Z",
     "shell.execute_reply": "2023-04-19T22:48:50.892131Z",
     "shell.execute_reply.started": "2023-04-19T22:48:50.890585Z"
    },
    "tags": []
   },
   "source": [
    "### 1.1.1 Rename Columns"
   ]
  },
  {
   "cell_type": "markdown",
   "id": "4932876b-6bf9-4169-bd6f-fd1146c04bd4",
   "metadata": {},
   "source": [
    "Dataset sem identificação das colunas, vamos então dar nome a aquelas que nos interessa "
   ]
  },
  {
   "cell_type": "code",
   "execution_count": 6,
   "id": "72603e87-48d6-41b2-994e-fe686a2a5f18",
   "metadata": {
    "execution": {
     "iopub.execute_input": "2023-04-25T18:28:13.309888Z",
     "iopub.status.busy": "2023-04-25T18:28:13.309619Z",
     "iopub.status.idle": "2023-04-25T18:28:13.312372Z",
     "shell.execute_reply": "2023-04-25T18:28:13.311895Z",
     "shell.execute_reply.started": "2023-04-25T18:28:13.309874Z"
    },
    "tags": []
   },
   "outputs": [],
   "source": [
    "df1.columns = ['id_filme','col_2', 'nome_filme', 'cod_3', 'cod_4', 'cod_5', 'cod_6','cod_7','genero_filme']"
   ]
  },
  {
   "cell_type": "markdown",
   "id": "9de4a4ce-d981-490e-a629-1b909954380f",
   "metadata": {
    "execution": {
     "iopub.execute_input": "2023-04-19T22:45:24.399745Z",
     "iopub.status.busy": "2023-04-19T22:45:24.399490Z",
     "iopub.status.idle": "2023-04-19T22:45:24.401808Z",
     "shell.execute_reply": "2023-04-19T22:45:24.401411Z",
     "shell.execute_reply.started": "2023-04-19T22:45:24.399730Z"
    },
    "tags": []
   },
   "source": [
    "## 1.2 Leitura Dados de Entrada ( Sinopses dos Filmes em formato txt)"
   ]
  },
  {
   "cell_type": "code",
   "execution_count": 7,
   "id": "bf59fefe-004f-4bc0-a9e5-2ee9dcd17d54",
   "metadata": {
    "execution": {
     "iopub.execute_input": "2023-04-25T18:28:13.634109Z",
     "iopub.status.busy": "2023-04-25T18:28:13.633758Z",
     "iopub.status.idle": "2023-04-25T18:28:14.203001Z",
     "shell.execute_reply": "2023-04-25T18:28:14.202657Z",
     "shell.execute_reply.started": "2023-04-25T18:28:13.634091Z"
    },
    "tags": []
   },
   "outputs": [
    {
     "name": "stderr",
     "output_type": "stream",
     "text": [
      "42303it [00:00, 74896.96it/s]\n"
     ]
    }
   ],
   "source": [
    "sinopse = []\n",
    "\n",
    "with open(\"../data/plot_summaries.txt\", 'r') as file:\n",
    "    texto = csv.reader(file,dialect='excel-tab')\n",
    "    \n",
    "    for row in tqdm(texto):\n",
    "        sinopse.append(row)"
   ]
  },
  {
   "cell_type": "code",
   "execution_count": 8,
   "id": "83df31b0-c00f-479f-b9dd-c445b3109ee7",
   "metadata": {
    "execution": {
     "iopub.execute_input": "2023-04-25T18:28:14.203919Z",
     "iopub.status.busy": "2023-04-25T18:28:14.203649Z",
     "iopub.status.idle": "2023-04-25T18:28:14.205702Z",
     "shell.execute_reply": "2023-04-25T18:28:14.205410Z",
     "shell.execute_reply.started": "2023-04-25T18:28:14.203906Z"
    },
    "tags": []
   },
   "outputs": [],
   "source": [
    "id_filme = []\n",
    "sinopse_filme = []"
   ]
  },
  {
   "cell_type": "code",
   "execution_count": 9,
   "id": "c09ee054-c40a-477c-bf55-e2ab0523a1fe",
   "metadata": {
    "execution": {
     "iopub.execute_input": "2023-04-25T18:28:14.206151Z",
     "iopub.status.busy": "2023-04-25T18:28:14.206046Z",
     "iopub.status.idle": "2023-04-25T18:28:14.240839Z",
     "shell.execute_reply": "2023-04-25T18:28:14.240324Z",
     "shell.execute_reply.started": "2023-04-25T18:28:14.206140Z"
    },
    "tags": []
   },
   "outputs": [
    {
     "name": "stderr",
     "output_type": "stream",
     "text": [
      "100%|███████████████████████████████████████████████████████████████████████████████████████████████████████████████████████████████████████████████████████████| 42303/42303 [00:00<00:00, 2126789.19it/s]\n"
     ]
    }
   ],
   "source": [
    "for i in tqdm(sinopse):\n",
    "    id_filme.append(i[0])\n",
    "    sinopse_filme.append(i[1])\n",
    "    \n",
    "# Montar o DataFrame \n",
    "\n",
    "df_sinopse = pd.DataFrame({'id_filme':id_filme, 'sinopse_filme': sinopse_filme})"
   ]
  },
  {
   "cell_type": "markdown",
   "id": "37076cef-3d9f-4afd-84cf-fea800bd09db",
   "metadata": {},
   "source": [
    "Check duplicated on both dataframes"
   ]
  },
  {
   "cell_type": "markdown",
   "id": "14cefcbf-dbb1-4b60-9631-e4e3e93cf3a6",
   "metadata": {
    "execution": {
     "iopub.execute_input": "2023-04-19T23:02:34.367090Z",
     "iopub.status.busy": "2023-04-19T23:02:34.366748Z",
     "iopub.status.idle": "2023-04-19T23:02:34.368924Z",
     "shell.execute_reply": "2023-04-19T23:02:34.368561Z",
     "shell.execute_reply.started": "2023-04-19T23:02:34.367076Z"
    },
    "tags": []
   },
   "source": [
    "## 1.3 Data Types"
   ]
  },
  {
   "cell_type": "markdown",
   "id": "512ccba0-1f47-487d-bc1a-19f0d4271aa8",
   "metadata": {
    "execution": {
     "iopub.execute_input": "2023-04-22T13:22:31.353465Z",
     "iopub.status.busy": "2023-04-22T13:22:31.353289Z",
     "iopub.status.idle": "2023-04-22T13:22:31.356625Z",
     "shell.execute_reply": "2023-04-22T13:22:31.356127Z",
     "shell.execute_reply.started": "2023-04-22T13:22:31.353452Z"
    },
    "tags": []
   },
   "source": [
    "Iremos alterar o id do filme para string, para que possamos juntar os 2 dataframes"
   ]
  },
  {
   "cell_type": "code",
   "execution_count": 10,
   "id": "cb171798-da00-415d-adbc-503d4f652f67",
   "metadata": {
    "execution": {
     "iopub.execute_input": "2023-04-25T18:28:14.566108Z",
     "iopub.status.busy": "2023-04-25T18:28:14.565741Z",
     "iopub.status.idle": "2023-04-25T18:28:14.592453Z",
     "shell.execute_reply": "2023-04-25T18:28:14.591953Z",
     "shell.execute_reply.started": "2023-04-25T18:28:14.566094Z"
    },
    "tags": []
   },
   "outputs": [],
   "source": [
    "df1['id_filme'] = df1['id_filme'].astype(str)"
   ]
  },
  {
   "cell_type": "markdown",
   "id": "51341415-5ed4-4302-83f9-026e5aec93fb",
   "metadata": {
    "execution": {
     "iopub.execute_input": "2023-04-19T23:14:57.273169Z",
     "iopub.status.busy": "2023-04-19T23:14:57.272782Z",
     "iopub.status.idle": "2023-04-19T23:14:57.275414Z",
     "shell.execute_reply": "2023-04-19T23:14:57.275005Z",
     "shell.execute_reply.started": "2023-04-19T23:14:57.273148Z"
    },
    "tags": []
   },
   "source": [
    "## 1.5 Join Datasets"
   ]
  },
  {
   "cell_type": "markdown",
   "id": "71f2ff01-9600-4d83-930d-41c7efb9277b",
   "metadata": {
    "execution": {
     "iopub.execute_input": "2023-04-22T13:34:57.161599Z",
     "iopub.status.busy": "2023-04-22T13:34:57.161317Z",
     "iopub.status.idle": "2023-04-22T13:34:57.164086Z",
     "shell.execute_reply": "2023-04-22T13:34:57.163714Z",
     "shell.execute_reply.started": "2023-04-22T13:34:57.161586Z"
    },
    "tags": []
   },
   "source": [
    "So we can analyze a little bit better we should join the sinopse with the metadata of the movies "
   ]
  },
  {
   "cell_type": "code",
   "execution_count": 11,
   "id": "97c09a77-4e43-42b0-aec1-77259295a942",
   "metadata": {
    "execution": {
     "iopub.execute_input": "2023-04-25T18:28:15.014055Z",
     "iopub.status.busy": "2023-04-25T18:28:15.013786Z",
     "iopub.status.idle": "2023-04-25T18:28:15.049742Z",
     "shell.execute_reply": "2023-04-25T18:28:15.049373Z",
     "shell.execute_reply.started": "2023-04-25T18:28:15.014042Z"
    },
    "tags": []
   },
   "outputs": [],
   "source": [
    "df_final = pd.merge(df1,df_sinopse,on='id_filme',how='left')"
   ]
  },
  {
   "cell_type": "markdown",
   "id": "878cee82-688c-4275-9a9f-d3082dfeb070",
   "metadata": {
    "execution": {
     "iopub.execute_input": "2023-04-19T22:35:35.753004Z",
     "iopub.status.busy": "2023-04-19T22:35:35.752613Z",
     "iopub.status.idle": "2023-04-19T22:35:35.758901Z",
     "shell.execute_reply": "2023-04-19T22:35:35.758370Z",
     "shell.execute_reply.started": "2023-04-19T22:35:35.752983Z"
    },
    "tags": []
   },
   "source": [
    "# 2.0 Data Filtering"
   ]
  },
  {
   "cell_type": "code",
   "execution_count": 12,
   "id": "8bfa3213-89f5-40f2-b264-fd59d9387096",
   "metadata": {
    "execution": {
     "iopub.execute_input": "2023-04-25T18:28:15.290389Z",
     "iopub.status.busy": "2023-04-25T18:28:15.290034Z",
     "iopub.status.idle": "2023-04-25T18:28:15.316450Z",
     "shell.execute_reply": "2023-04-25T18:28:15.315989Z",
     "shell.execute_reply.started": "2023-04-25T18:28:15.290375Z"
    },
    "tags": []
   },
   "outputs": [],
   "source": [
    "df2 = df_final.copy()"
   ]
  },
  {
   "cell_type": "markdown",
   "id": "b8b4e900-c337-48e3-b33c-386f78d2ec80",
   "metadata": {
    "execution": {
     "iopub.execute_input": "2023-04-19T23:58:51.048423Z",
     "iopub.status.busy": "2023-04-19T23:58:51.048088Z",
     "iopub.status.idle": "2023-04-19T23:58:51.050293Z",
     "shell.execute_reply": "2023-04-19T23:58:51.049922Z",
     "shell.execute_reply.started": "2023-04-19T23:58:51.048409Z"
    },
    "tags": []
   },
   "source": [
    "## 2.1 Select Columns"
   ]
  },
  {
   "cell_type": "code",
   "execution_count": 13,
   "id": "dea2b32e-5887-424c-82d2-64a2fbf05879",
   "metadata": {
    "execution": {
     "iopub.execute_input": "2023-04-25T18:28:15.567097Z",
     "iopub.status.busy": "2023-04-25T18:28:15.566835Z",
     "iopub.status.idle": "2023-04-25T18:28:15.581470Z",
     "shell.execute_reply": "2023-04-25T18:28:15.581035Z",
     "shell.execute_reply.started": "2023-04-25T18:28:15.567083Z"
    },
    "tags": []
   },
   "outputs": [],
   "source": [
    "# We will we keep the necessary variables that will be used for the development of the project\n",
    "df2 = df2[['id_filme','nome_filme','genero_filme','sinopse_filme']].copy()"
   ]
  },
  {
   "cell_type": "markdown",
   "id": "2de28678-8eb5-457c-ab61-f8da4ec1c230",
   "metadata": {
    "execution": {
     "iopub.execute_input": "2023-04-21T01:52:24.050235Z",
     "iopub.status.busy": "2023-04-21T01:52:24.049934Z",
     "iopub.status.idle": "2023-04-21T01:52:24.052512Z",
     "shell.execute_reply": "2023-04-21T01:52:24.052159Z",
     "shell.execute_reply.started": "2023-04-21T01:52:24.050216Z"
    },
    "tags": []
   },
   "source": [
    "## 2.2 Selecting only The Genders"
   ]
  },
  {
   "cell_type": "code",
   "execution_count": 14,
   "id": "a9628d19-357f-4351-a5de-8b3c2bb4eeac",
   "metadata": {
    "execution": {
     "iopub.execute_input": "2023-04-25T18:28:16.097620Z",
     "iopub.status.busy": "2023-04-25T18:28:16.097258Z",
     "iopub.status.idle": "2023-04-25T18:28:16.324808Z",
     "shell.execute_reply": "2023-04-25T18:28:16.324409Z",
     "shell.execute_reply.started": "2023-04-25T18:28:16.097606Z"
    },
    "tags": []
   },
   "outputs": [],
   "source": [
    "# Extract all genres\n",
    "generos = []\n",
    "\n",
    "for i in df2['genero_filme']:\n",
    "    generos.append(list(json.loads(i).values()))\n",
    "    \n",
    "df2['genero_filme'] = generos\n",
    "df2 = df2.dropna()\n",
    "\n",
    "# Drop lines without gender classification\n",
    "df2_new = df2[~(df2['genero_filme'].str.len() == 0 )]"
   ]
  },
  {
   "cell_type": "code",
   "execution_count": 15,
   "id": "2a92df70-af21-475d-abb7-35ea7e9385fc",
   "metadata": {
    "execution": {
     "iopub.execute_input": "2023-04-25T18:28:16.325978Z",
     "iopub.status.busy": "2023-04-25T18:28:16.325629Z",
     "iopub.status.idle": "2023-04-25T18:28:16.328820Z",
     "shell.execute_reply": "2023-04-25T18:28:16.328532Z",
     "shell.execute_reply.started": "2023-04-25T18:28:16.325963Z"
    },
    "tags": []
   },
   "outputs": [
    {
     "data": {
      "text/plain": [
       "((42204, 4), (41793, 4))"
      ]
     },
     "execution_count": 15,
     "metadata": {},
     "output_type": "execute_result"
    }
   ],
   "source": [
    "df2.shape, df2_new.shape"
   ]
  },
  {
   "cell_type": "markdown",
   "id": "35579193-a66f-414a-adbc-844a126cfaa8",
   "metadata": {
    "execution": {
     "iopub.execute_input": "2023-04-22T13:53:53.232973Z",
     "iopub.status.busy": "2023-04-22T13:53:53.232548Z",
     "iopub.status.idle": "2023-04-22T13:53:53.235124Z",
     "shell.execute_reply": "2023-04-22T13:53:53.234761Z",
     "shell.execute_reply.started": "2023-04-22T13:53:53.232953Z"
    },
    "tags": []
   },
   "source": [
    "## Converting the Genres to labels"
   ]
  },
  {
   "cell_type": "code",
   "execution_count": 16,
   "id": "cc46f6aa-dcad-4cf2-8246-77cfac7ee626",
   "metadata": {
    "execution": {
     "iopub.execute_input": "2023-04-25T18:28:16.329327Z",
     "iopub.status.busy": "2023-04-25T18:28:16.329213Z",
     "iopub.status.idle": "2023-04-25T18:28:16.401529Z",
     "shell.execute_reply": "2023-04-25T18:28:16.400729Z",
     "shell.execute_reply.started": "2023-04-25T18:28:16.329316Z"
    },
    "tags": []
   },
   "outputs": [],
   "source": [
    "# multilabel = MultiLabelBinarizer()\n",
    "multilabel = pickle.load(open('/home/jordanmalheiros/Estudismo/desafio_espaider/transformations/multilabel_transformation.pkl','rb'))\n",
    "y = multilabel.transform(df2_new['genero_filme'])"
   ]
  },
  {
   "cell_type": "code",
   "execution_count": 17,
   "id": "c05c652a-9202-4d88-8915-1596d53b08e7",
   "metadata": {
    "execution": {
     "iopub.execute_input": "2023-04-25T18:28:16.402914Z",
     "iopub.status.busy": "2023-04-25T18:28:16.402735Z",
     "iopub.status.idle": "2023-04-25T18:28:16.408178Z",
     "shell.execute_reply": "2023-04-25T18:28:16.407483Z",
     "shell.execute_reply.started": "2023-04-25T18:28:16.402897Z"
    },
    "tags": []
   },
   "outputs": [
    {
     "data": {
      "text/plain": [
       "(41793, 363)"
      ]
     },
     "execution_count": 17,
     "metadata": {},
     "output_type": "execute_result"
    }
   ],
   "source": [
    "y.shape"
   ]
  },
  {
   "cell_type": "markdown",
   "id": "2fab8fb0-b88f-4a4e-bcc2-f978ae6ce558",
   "metadata": {
    "execution": {
     "iopub.execute_input": "2023-04-24T19:46:48.734072Z",
     "iopub.status.busy": "2023-04-24T19:46:48.733732Z",
     "iopub.status.idle": "2023-04-24T19:46:48.735870Z",
     "shell.execute_reply": "2023-04-24T19:46:48.735563Z",
     "shell.execute_reply.started": "2023-04-24T19:46:48.734058Z"
    },
    "tags": []
   },
   "source": [
    "# 3.0 EDA"
   ]
  },
  {
   "cell_type": "code",
   "execution_count": 18,
   "id": "4ba74b5c-27f0-4de4-9916-c780107ef8bf",
   "metadata": {
    "execution": {
     "iopub.execute_input": "2023-04-25T18:28:16.574154Z",
     "iopub.status.busy": "2023-04-25T18:28:16.573806Z",
     "iopub.status.idle": "2023-04-25T18:28:16.588269Z",
     "shell.execute_reply": "2023-04-25T18:28:16.587791Z",
     "shell.execute_reply.started": "2023-04-25T18:28:16.574140Z"
    },
    "tags": []
   },
   "outputs": [],
   "source": [
    "df4 = df2_new.copy()"
   ]
  },
  {
   "cell_type": "markdown",
   "id": "1cf16352-095f-4d35-8c8f-6fb7d9649b59",
   "metadata": {
    "execution": {
     "iopub.execute_input": "2023-04-19T22:36:22.665001Z",
     "iopub.status.busy": "2023-04-19T22:36:22.664732Z",
     "iopub.status.idle": "2023-04-19T22:36:22.666949Z",
     "shell.execute_reply": "2023-04-19T22:36:22.666570Z",
     "shell.execute_reply.started": "2023-04-19T22:36:22.664988Z"
    },
    "tags": []
   },
   "source": [
    "# 4.0 Data Preparation - PreProcessing and Cleaning"
   ]
  },
  {
   "cell_type": "code",
   "execution_count": 19,
   "id": "f84c5d72-91ba-4de1-ae8a-cc4e3f3bdb84",
   "metadata": {
    "execution": {
     "iopub.execute_input": "2023-04-25T18:28:16.947481Z",
     "iopub.status.busy": "2023-04-25T18:28:16.947224Z",
     "iopub.status.idle": "2023-04-25T18:28:16.951854Z",
     "shell.execute_reply": "2023-04-25T18:28:16.951472Z",
     "shell.execute_reply.started": "2023-04-25T18:28:16.947467Z"
    },
    "tags": []
   },
   "outputs": [],
   "source": [
    "df5 = df4.copy()"
   ]
  },
  {
   "cell_type": "code",
   "execution_count": 20,
   "id": "b51ab6c5-3adf-402e-8a56-e69683c7e66a",
   "metadata": {
    "execution": {
     "iopub.execute_input": "2023-04-25T18:28:17.147606Z",
     "iopub.status.busy": "2023-04-25T18:28:17.147185Z",
     "iopub.status.idle": "2023-04-25T18:28:30.149579Z",
     "shell.execute_reply": "2023-04-25T18:28:30.149184Z",
     "shell.execute_reply.started": "2023-04-25T18:28:17.147592Z"
    },
    "tags": []
   },
   "outputs": [],
   "source": [
    "with open('../data/contractions.txt') as file:\n",
    "    data = file.read()\n",
    "\n",
    "contractions = json.loads(data)\n",
    "\n",
    "# Cleaning Sinopse Text\n",
    "df5['sinopse_filme'] = df5['sinopse_filme'].apply(lambda x: clean_text(x))\n"
   ]
  },
  {
   "cell_type": "markdown",
   "id": "aa57ad89-a118-46ff-a14b-089849ebb5cc",
   "metadata": {
    "execution": {
     "iopub.execute_input": "2023-04-22T14:00:19.565829Z",
     "iopub.status.busy": "2023-04-22T14:00:19.565559Z",
     "iopub.status.idle": "2023-04-22T14:00:19.568021Z",
     "shell.execute_reply": "2023-04-22T14:00:19.567568Z",
     "shell.execute_reply.started": "2023-04-22T14:00:19.565816Z"
    },
    "tags": []
   },
   "source": [
    "# 5.0 Feature Creation"
   ]
  },
  {
   "cell_type": "markdown",
   "id": "a60684fd-6869-45d9-a65c-9f7ee8076712",
   "metadata": {},
   "source": [
    "We will be focusing on the TF-IDF technique in this project to convert our train and test dataset into numerical vectors."
   ]
  },
  {
   "cell_type": "markdown",
   "id": "5daf8e1a-c2eb-48e9-9d57-d2e18fa08207",
   "metadata": {},
   "source": [
    "* TF-IDF picks the most frequently occurring terms (words with high term frequency or tf). \n",
    "* However, the most frequent word is a less useful metric since some words like ‘this’, ‘a’ occur very frequently across all documents."
   ]
  },
  {
   "cell_type": "code",
   "execution_count": 21,
   "id": "2390e032-461b-4808-9729-86f8a062521e",
   "metadata": {
    "execution": {
     "iopub.execute_input": "2023-04-25T18:28:30.150811Z",
     "iopub.status.busy": "2023-04-25T18:28:30.150374Z",
     "iopub.status.idle": "2023-04-25T18:28:30.163172Z",
     "shell.execute_reply": "2023-04-25T18:28:30.162807Z",
     "shell.execute_reply.started": "2023-04-25T18:28:30.150790Z"
    },
    "tags": []
   },
   "outputs": [],
   "source": [
    "df6 = df5.copy()"
   ]
  },
  {
   "cell_type": "markdown",
   "id": "209ffd51-68ec-45d7-aa9d-1ebbb469043b",
   "metadata": {
    "tags": []
   },
   "source": [
    "## 5.1 Split Train and Test Dataset"
   ]
  },
  {
   "cell_type": "code",
   "execution_count": 22,
   "id": "6d3709af-aba3-492e-a20e-484b20c1a1ba",
   "metadata": {
    "execution": {
     "iopub.execute_input": "2023-04-25T18:28:30.164156Z",
     "iopub.status.busy": "2023-04-25T18:28:30.163710Z",
     "iopub.status.idle": "2023-04-25T18:28:30.197835Z",
     "shell.execute_reply": "2023-04-25T18:28:30.197465Z",
     "shell.execute_reply.started": "2023-04-25T18:28:30.164138Z"
    },
    "tags": []
   },
   "outputs": [],
   "source": [
    "x_train, x_validation, y_train, y_validation = train_test_split(df6['sinopse_filme'], y, test_size=0.2, random_state=42)"
   ]
  },
  {
   "cell_type": "code",
   "execution_count": 23,
   "id": "4499d66d-e7c0-47e3-82ff-b53d03722747",
   "metadata": {
    "execution": {
     "iopub.execute_input": "2023-04-25T18:28:30.198885Z",
     "iopub.status.busy": "2023-04-25T18:28:30.198763Z",
     "iopub.status.idle": "2023-04-25T18:28:34.140728Z",
     "shell.execute_reply": "2023-04-25T18:28:34.140349Z",
     "shell.execute_reply.started": "2023-04-25T18:28:30.198873Z"
    },
    "tags": []
   },
   "outputs": [],
   "source": [
    "tfidf = pickle.load(open('/home/jordanmalheiros/Estudismo/desafio_espaider/transformations/tfidf_transformation.pkl','rb'))"
   ]
  },
  {
   "cell_type": "code",
   "execution_count": 24,
   "id": "88a4249c-29e9-4a3f-ad5d-f1199a40069b",
   "metadata": {
    "execution": {
     "iopub.execute_input": "2023-04-25T18:28:34.141309Z",
     "iopub.status.busy": "2023-04-25T18:28:34.141196Z",
     "iopub.status.idle": "2023-04-25T18:29:29.757960Z",
     "shell.execute_reply": "2023-04-25T18:29:29.757511Z",
     "shell.execute_reply.started": "2023-04-25T18:28:34.141298Z"
    },
    "tags": []
   },
   "outputs": [],
   "source": [
    "X = tfidf.transform(df6['sinopse_filme'])"
   ]
  },
  {
   "cell_type": "code",
   "execution_count": 25,
   "id": "fb144719-1516-4d6a-96e5-7784f0df743e",
   "metadata": {
    "execution": {
     "iopub.execute_input": "2023-04-25T18:29:29.758707Z",
     "iopub.status.busy": "2023-04-25T18:29:29.758510Z",
     "iopub.status.idle": "2023-04-25T18:29:29.761591Z",
     "shell.execute_reply": "2023-04-25T18:29:29.761221Z",
     "shell.execute_reply.started": "2023-04-25T18:29:29.758693Z"
    },
    "tags": []
   },
   "outputs": [
    {
     "data": {
      "text/plain": [
       "<41793x20000 sparse matrix of type '<class 'numpy.float64'>'\n",
       "\twith 5090379 stored elements in Compressed Sparse Row format>"
      ]
     },
     "execution_count": 25,
     "metadata": {},
     "output_type": "execute_result"
    }
   ],
   "source": [
    "X"
   ]
  },
  {
   "cell_type": "code",
   "execution_count": 26,
   "id": "546179bd-10ff-45a7-a41e-47656d92d2ee",
   "metadata": {
    "execution": {
     "iopub.execute_input": "2023-04-25T18:29:29.762496Z",
     "iopub.status.busy": "2023-04-25T18:29:29.762175Z",
     "iopub.status.idle": "2023-04-25T18:29:29.766536Z",
     "shell.execute_reply": "2023-04-25T18:29:29.766057Z",
     "shell.execute_reply.started": "2023-04-25T18:29:29.762477Z"
    },
    "tags": []
   },
   "outputs": [],
   "source": [
    "# Create the Matrix of tdidf frequency of words\n",
    "\n",
    "# tfidf = TfidfVectorizer(analyzer='word',max_features=20000,max_df=0.85,min_df=3,ngram_range=(1, 3),tokenizer=tokenize_and_stem)\n",
    "# pickle.dump(tfidf,open('/home/jordanmalheiros/Estudismo/desafio_espaider/transformations/tfidf_transformation.pkl','wb'))\n",
    "\n",
    "# X = tfidf.fit_transform(df6['sinopse_filme'])"
   ]
  },
  {
   "cell_type": "markdown",
   "id": "10550f57-eec8-42c4-a033-aac28efa07f0",
   "metadata": {
    "execution": {
     "iopub.execute_input": "2023-04-22T03:46:54.837857Z",
     "iopub.status.busy": "2023-04-22T03:46:54.837581Z",
     "iopub.status.idle": "2023-04-22T03:46:54.840011Z",
     "shell.execute_reply": "2023-04-22T03:46:54.839547Z",
     "shell.execute_reply.started": "2023-04-22T03:46:54.837843Z"
    },
    "tags": []
   },
   "source": [
    "## 5.2 Apply Normalization and Tfidf Transformation do dataset"
   ]
  },
  {
   "cell_type": "markdown",
   "id": "d828f817-34ff-4377-aa6a-ffbcd18c9afd",
   "metadata": {
    "execution": {
     "iopub.execute_input": "2023-04-22T14:15:51.874150Z",
     "iopub.status.busy": "2023-04-22T14:15:51.873872Z",
     "iopub.status.idle": "2023-04-22T14:15:51.876159Z",
     "shell.execute_reply": "2023-04-22T14:15:51.875755Z",
     "shell.execute_reply.started": "2023-04-22T14:15:51.874137Z"
    },
    "tags": []
   },
   "source": [
    "Applying tfidf Vectorizer into the training and validation dataset"
   ]
  },
  {
   "cell_type": "code",
   "execution_count": 27,
   "id": "892c77d1-f400-4ca7-a5ae-d0bbee020d3b",
   "metadata": {
    "execution": {
     "iopub.execute_input": "2023-04-25T18:29:29.767269Z",
     "iopub.status.busy": "2023-04-25T18:29:29.767141Z",
     "iopub.status.idle": "2023-04-25T18:30:25.506968Z",
     "shell.execute_reply": "2023-04-25T18:30:25.506522Z",
     "shell.execute_reply.started": "2023-04-25T18:29:29.767257Z"
    },
    "tags": []
   },
   "outputs": [],
   "source": [
    "# normalizer = Normalizer()\n",
    "\n",
    "# pickle.dump(normalizer,open('/home/jordanmalheiros/Estudismo/desafio_espaider/transformations/norm_transformation.pkl','wb'))\n",
    "\n",
    "normalizer = pickle.load(open('/home/jordanmalheiros/Estudismo/desafio_espaider/transformations/norm_transformation.pkl','rb'))\n",
    "\n",
    "x_train = tfidf.transform(x_train)\n",
    "x_train = normalizer.fit_transform(x_train)\n",
    "\n",
    "x_validation = tfidf.transform(x_validation)\n",
    "x_validation = normalizer.transform(x_validation)\n"
   ]
  },
  {
   "cell_type": "markdown",
   "id": "3f725f32-adbe-44c5-8448-32492860c0f7",
   "metadata": {},
   "source": [
    "Let's test first using the validation and later on the cross_validation method"
   ]
  },
  {
   "cell_type": "markdown",
   "id": "06a1fd53-4d2e-4284-bdae-8f990fdef9f7",
   "metadata": {
    "execution": {
     "iopub.execute_input": "2023-04-22T20:01:00.258482Z",
     "iopub.status.busy": "2023-04-22T20:01:00.257980Z",
     "iopub.status.idle": "2023-04-22T20:01:00.260576Z",
     "shell.execute_reply": "2023-04-22T20:01:00.260203Z",
     "shell.execute_reply.started": "2023-04-22T20:01:00.258461Z"
    },
    "tags": []
   },
   "source": [
    "# 6.0 Final Model"
   ]
  },
  {
   "cell_type": "markdown",
   "id": "a3031627-2616-4db8-b935-1d48d0e6881f",
   "metadata": {
    "execution": {
     "iopub.execute_input": "2023-04-24T14:27:44.500837Z",
     "iopub.status.busy": "2023-04-24T14:27:44.500530Z",
     "iopub.status.idle": "2023-04-24T14:27:44.502924Z",
     "shell.execute_reply": "2023-04-24T14:27:44.502521Z",
     "shell.execute_reply.started": "2023-04-24T14:27:44.500824Z"
    },
    "tags": []
   },
   "source": [
    "## 6.1 Join Train and Validation Dataset"
   ]
  },
  {
   "cell_type": "code",
   "execution_count": 28,
   "id": "61e2a804-ea19-4af3-a12f-63677f8bf203",
   "metadata": {
    "execution": {
     "iopub.execute_input": "2023-04-25T18:30:25.507891Z",
     "iopub.status.busy": "2023-04-25T18:30:25.507580Z",
     "iopub.status.idle": "2023-04-25T18:30:25.509888Z",
     "shell.execute_reply": "2023-04-25T18:30:25.509375Z",
     "shell.execute_reply.started": "2023-04-25T18:30:25.507879Z"
    },
    "tags": []
   },
   "outputs": [],
   "source": [
    "x_train_final = X\n",
    "y_train_final = y"
   ]
  },
  {
   "cell_type": "markdown",
   "id": "248a27fe-6a26-4080-a5e0-a03b397c29fe",
   "metadata": {
    "execution": {
     "iopub.execute_input": "2023-04-24T14:06:39.399829Z",
     "iopub.status.busy": "2023-04-24T14:06:39.399541Z",
     "iopub.status.idle": "2023-04-24T14:06:39.401926Z",
     "shell.execute_reply": "2023-04-24T14:06:39.401489Z",
     "shell.execute_reply.started": "2023-04-24T14:06:39.399816Z"
    },
    "tags": []
   },
   "source": [
    "## 6.2 Final Model - LogisticRegression()"
   ]
  },
  {
   "cell_type": "code",
   "execution_count": 29,
   "id": "4462858f-9111-4068-a382-3e4954021ec4",
   "metadata": {
    "execution": {
     "iopub.execute_input": "2023-04-25T18:30:25.511222Z",
     "iopub.status.busy": "2023-04-25T18:30:25.511014Z",
     "iopub.status.idle": "2023-04-25T18:30:25.534379Z",
     "shell.execute_reply": "2023-04-25T18:30:25.533925Z",
     "shell.execute_reply.started": "2023-04-25T18:30:25.511211Z"
    },
    "tags": []
   },
   "outputs": [],
   "source": [
    "model = pickle.load(open('/home/jordanmalheiros/Estudismo/desafio_espaider/model/model_lr_tuned.pkl','rb'))"
   ]
  },
  {
   "cell_type": "code",
   "execution_count": 30,
   "id": "6bec9353-b7bc-4b16-823c-96e89f90ff95",
   "metadata": {
    "execution": {
     "iopub.execute_input": "2023-04-25T18:30:25.535175Z",
     "iopub.status.busy": "2023-04-25T18:30:25.534924Z",
     "iopub.status.idle": "2023-04-25T18:30:25.542060Z",
     "shell.execute_reply": "2023-04-25T18:30:25.541608Z",
     "shell.execute_reply.started": "2023-04-25T18:30:25.535162Z"
    },
    "tags": []
   },
   "outputs": [
    {
     "data": {
      "text/html": [
       "<style>#sk-container-id-1 {color: black;background-color: white;}#sk-container-id-1 pre{padding: 0;}#sk-container-id-1 div.sk-toggleable {background-color: white;}#sk-container-id-1 label.sk-toggleable__label {cursor: pointer;display: block;width: 100%;margin-bottom: 0;padding: 0.3em;box-sizing: border-box;text-align: center;}#sk-container-id-1 label.sk-toggleable__label-arrow:before {content: \"▸\";float: left;margin-right: 0.25em;color: #696969;}#sk-container-id-1 label.sk-toggleable__label-arrow:hover:before {color: black;}#sk-container-id-1 div.sk-estimator:hover label.sk-toggleable__label-arrow:before {color: black;}#sk-container-id-1 div.sk-toggleable__content {max-height: 0;max-width: 0;overflow: hidden;text-align: left;background-color: #f0f8ff;}#sk-container-id-1 div.sk-toggleable__content pre {margin: 0.2em;color: black;border-radius: 0.25em;background-color: #f0f8ff;}#sk-container-id-1 input.sk-toggleable__control:checked~div.sk-toggleable__content {max-height: 200px;max-width: 100%;overflow: auto;}#sk-container-id-1 input.sk-toggleable__control:checked~label.sk-toggleable__label-arrow:before {content: \"▾\";}#sk-container-id-1 div.sk-estimator input.sk-toggleable__control:checked~label.sk-toggleable__label {background-color: #d4ebff;}#sk-container-id-1 div.sk-label input.sk-toggleable__control:checked~label.sk-toggleable__label {background-color: #d4ebff;}#sk-container-id-1 input.sk-hidden--visually {border: 0;clip: rect(1px 1px 1px 1px);clip: rect(1px, 1px, 1px, 1px);height: 1px;margin: -1px;overflow: hidden;padding: 0;position: absolute;width: 1px;}#sk-container-id-1 div.sk-estimator {font-family: monospace;background-color: #f0f8ff;border: 1px dotted black;border-radius: 0.25em;box-sizing: border-box;margin-bottom: 0.5em;}#sk-container-id-1 div.sk-estimator:hover {background-color: #d4ebff;}#sk-container-id-1 div.sk-parallel-item::after {content: \"\";width: 100%;border-bottom: 1px solid gray;flex-grow: 1;}#sk-container-id-1 div.sk-label:hover label.sk-toggleable__label {background-color: #d4ebff;}#sk-container-id-1 div.sk-serial::before {content: \"\";position: absolute;border-left: 1px solid gray;box-sizing: border-box;top: 0;bottom: 0;left: 50%;z-index: 0;}#sk-container-id-1 div.sk-serial {display: flex;flex-direction: column;align-items: center;background-color: white;padding-right: 0.2em;padding-left: 0.2em;position: relative;}#sk-container-id-1 div.sk-item {position: relative;z-index: 1;}#sk-container-id-1 div.sk-parallel {display: flex;align-items: stretch;justify-content: center;background-color: white;position: relative;}#sk-container-id-1 div.sk-item::before, #sk-container-id-1 div.sk-parallel-item::before {content: \"\";position: absolute;border-left: 1px solid gray;box-sizing: border-box;top: 0;bottom: 0;left: 50%;z-index: -1;}#sk-container-id-1 div.sk-parallel-item {display: flex;flex-direction: column;z-index: 1;position: relative;background-color: white;}#sk-container-id-1 div.sk-parallel-item:first-child::after {align-self: flex-end;width: 50%;}#sk-container-id-1 div.sk-parallel-item:last-child::after {align-self: flex-start;width: 50%;}#sk-container-id-1 div.sk-parallel-item:only-child::after {width: 0;}#sk-container-id-1 div.sk-dashed-wrapped {border: 1px dashed gray;margin: 0 0.4em 0.5em 0.4em;box-sizing: border-box;padding-bottom: 0.4em;background-color: white;}#sk-container-id-1 div.sk-label label {font-family: monospace;font-weight: bold;display: inline-block;line-height: 1.2em;}#sk-container-id-1 div.sk-label-container {text-align: center;}#sk-container-id-1 div.sk-container {/* jupyter's `normalize.less` sets `[hidden] { display: none; }` but bootstrap.min.css set `[hidden] { display: none !important; }` so we also need the `!important` here to be able to override the default hidden behavior on the sphinx rendered scikit-learn.org. See: https://github.com/scikit-learn/scikit-learn/issues/21755 */display: inline-block !important;position: relative;}#sk-container-id-1 div.sk-text-repr-fallback {display: none;}</style><div id=\"sk-container-id-1\" class=\"sk-top-container\"><div class=\"sk-text-repr-fallback\"><pre>OneVsRestClassifier(estimator=LogisticRegression(C=1.2, class_weight=&#x27;balanced&#x27;,\n",
       "                                                 max_iter=1000, random_state=42,\n",
       "                                                 solver=&#x27;newton-cg&#x27;),\n",
       "                    n_jobs=-1)</pre><b>In a Jupyter environment, please rerun this cell to show the HTML representation or trust the notebook. <br />On GitHub, the HTML representation is unable to render, please try loading this page with nbviewer.org.</b></div><div class=\"sk-container\" hidden><div class=\"sk-item sk-dashed-wrapped\"><div class=\"sk-label-container\"><div class=\"sk-label sk-toggleable\"><input class=\"sk-toggleable__control sk-hidden--visually\" id=\"sk-estimator-id-1\" type=\"checkbox\" ><label for=\"sk-estimator-id-1\" class=\"sk-toggleable__label sk-toggleable__label-arrow\">OneVsRestClassifier</label><div class=\"sk-toggleable__content\"><pre>OneVsRestClassifier(estimator=LogisticRegression(C=1.2, class_weight=&#x27;balanced&#x27;,\n",
       "                                                 max_iter=1000, random_state=42,\n",
       "                                                 solver=&#x27;newton-cg&#x27;),\n",
       "                    n_jobs=-1)</pre></div></div></div><div class=\"sk-parallel\"><div class=\"sk-parallel-item\"><div class=\"sk-item\"><div class=\"sk-label-container\"><div class=\"sk-label sk-toggleable\"><input class=\"sk-toggleable__control sk-hidden--visually\" id=\"sk-estimator-id-2\" type=\"checkbox\" ><label for=\"sk-estimator-id-2\" class=\"sk-toggleable__label sk-toggleable__label-arrow\">estimator: LogisticRegression</label><div class=\"sk-toggleable__content\"><pre>LogisticRegression(C=1.2, class_weight=&#x27;balanced&#x27;, max_iter=1000,\n",
       "                   random_state=42, solver=&#x27;newton-cg&#x27;)</pre></div></div></div><div class=\"sk-serial\"><div class=\"sk-item\"><div class=\"sk-estimator sk-toggleable\"><input class=\"sk-toggleable__control sk-hidden--visually\" id=\"sk-estimator-id-3\" type=\"checkbox\" ><label for=\"sk-estimator-id-3\" class=\"sk-toggleable__label sk-toggleable__label-arrow\">LogisticRegression</label><div class=\"sk-toggleable__content\"><pre>LogisticRegression(C=1.2, class_weight=&#x27;balanced&#x27;, max_iter=1000,\n",
       "                   random_state=42, solver=&#x27;newton-cg&#x27;)</pre></div></div></div></div></div></div></div></div></div></div>"
      ],
      "text/plain": [
       "OneVsRestClassifier(estimator=LogisticRegression(C=1.2, class_weight='balanced',\n",
       "                                                 max_iter=1000, random_state=42,\n",
       "                                                 solver='newton-cg'),\n",
       "                    n_jobs=-1)"
      ]
     },
     "execution_count": 30,
     "metadata": {},
     "output_type": "execute_result"
    }
   ],
   "source": [
    "model"
   ]
  },
  {
   "cell_type": "markdown",
   "id": "4cef3bf8-93b7-41cb-b488-aa2c46f507d8",
   "metadata": {
    "execution": {
     "iopub.execute_input": "2023-04-24T14:13:42.033248Z",
     "iopub.status.busy": "2023-04-24T14:13:42.032901Z",
     "iopub.status.idle": "2023-04-24T14:13:42.035195Z",
     "shell.execute_reply": "2023-04-24T14:13:42.034760Z",
     "shell.execute_reply.started": "2023-04-24T14:13:42.033235Z"
    },
    "tags": []
   },
   "source": [
    "# 7.0 Predict Movie Gender"
   ]
  },
  {
   "cell_type": "code",
   "execution_count": 12,
   "id": "8135ec55-c2f9-4c8f-84e0-48f4cb7fa6be",
   "metadata": {
    "execution": {
     "iopub.execute_input": "2023-04-26T03:35:28.855017Z",
     "iopub.status.busy": "2023-04-26T03:35:28.854658Z",
     "iopub.status.idle": "2023-04-26T03:35:34.585435Z",
     "shell.execute_reply": "2023-04-26T03:35:34.585074Z",
     "shell.execute_reply.started": "2023-04-26T03:35:28.855003Z"
    },
    "tags": []
   },
   "outputs": [
    {
     "name": "stdout",
     "output_type": "stream",
     "text": [
      "Enter the sinopse:\n"
     ]
    },
    {
     "name": "stdin",
     "output_type": "stream",
     "text": [
      " On the lush alien world of Pandora live the Na'vi, beings who appear primitive but are highly evolved. Because the planet's environment is poisonous, human/Na'vi hybrids, called Avatars, must link to human minds to allow for free movement on Pandora. Jake Sully (Sam Worthington), a paralyzed former Marine, becomes mobile again through one such Avatar and falls in love with a Na'vi woman (Zoe Saldana). As a bond with her grows, he is drawn into a battle for the survival of her world.\n"
     ]
    }
   ],
   "source": [
    "print('Enter the sinopse:')\n",
    "sinopse = input()\n",
    "# predict_genres(model,sinopse)"
   ]
  },
  {
   "cell_type": "markdown",
   "id": "9a3f3e91-9aa0-46be-a42a-2dcde87952cc",
   "metadata": {
    "tags": []
   },
   "source": [
    "# TEST API"
   ]
  },
  {
   "cell_type": "code",
   "execution_count": 13,
   "id": "8b868a90-cd2b-4b6c-82f7-1e2b435d261e",
   "metadata": {
    "execution": {
     "iopub.execute_input": "2023-04-26T03:35:38.371681Z",
     "iopub.status.busy": "2023-04-26T03:35:38.371339Z",
     "iopub.status.idle": "2023-04-26T03:35:38.373687Z",
     "shell.execute_reply": "2023-04-26T03:35:38.373312Z",
     "shell.execute_reply.started": "2023-04-26T03:35:38.371667Z"
    },
    "tags": []
   },
   "outputs": [],
   "source": [
    "import requests"
   ]
  },
  {
   "cell_type": "code",
   "execution_count": 14,
   "id": "2f7892f0-3c3b-49d2-ac09-2d740781ba64",
   "metadata": {
    "execution": {
     "iopub.execute_input": "2023-04-26T03:35:39.273393Z",
     "iopub.status.busy": "2023-04-26T03:35:39.273180Z",
     "iopub.status.idle": "2023-04-26T03:35:39.276194Z",
     "shell.execute_reply": "2023-04-26T03:35:39.275801Z",
     "shell.execute_reply.started": "2023-04-26T03:35:39.273380Z"
    },
    "tags": []
   },
   "outputs": [],
   "source": [
    "def API_Test(sinopse,endpoint):\n",
    "    \n",
    "    header = {'Content-type': 'text/plain'}\n",
    "    data = sinopse\n",
    "\n",
    "    r = requests.post(endpoint,data=data,headers=header)\n",
    "    print('Status Code {}'.format(r.status_code))\n",
    "    \n",
    "    \n",
    "    r_json = r.json()\n",
    "    genres = r_json[0]\n",
    "    genre_str = \", \".join(genres)\n",
    "    \n",
    "    return print('Genres Predicted:{}'.format(genre_str))\n",
    "    "
   ]
  },
  {
   "cell_type": "code",
   "execution_count": 16,
   "id": "12c3e9c2-f9bc-4455-8148-0519b76bfad4",
   "metadata": {
    "execution": {
     "iopub.execute_input": "2023-04-26T03:40:46.290192Z",
     "iopub.status.busy": "2023-04-26T03:40:46.289788Z",
     "iopub.status.idle": "2023-04-26T03:40:55.019395Z",
     "shell.execute_reply": "2023-04-26T03:40:55.018937Z",
     "shell.execute_reply.started": "2023-04-26T03:40:46.290173Z"
    },
    "tags": []
   },
   "outputs": [
    {
     "name": "stdout",
     "output_type": "stream",
     "text": [
      "Status Code 200\n",
      "Genres Predicted:Action, Fantasy, Science Fiction\n"
     ]
    }
   ],
   "source": [
    "# Endpoint Local\n",
    "# url = 'http://127.0.0.1:5000/genres_pred/predict'\n",
    "\n",
    "# Endpoint Production\n",
    "url = 'https://jbm-genrepred-deploy.onrender.com/genres_pred/predict'\n",
    "# url = 'https://jbm-genre-prediction.onrender.com/genres_pred/predict'\n",
    "\n",
    "API_Test(sinopse,url)"
   ]
  },
  {
   "cell_type": "code",
   "execution_count": 67,
   "id": "39ece2da-0c0e-422f-ad68-199abd9612dc",
   "metadata": {
    "execution": {
     "iopub.execute_input": "2023-04-25T20:08:33.724974Z",
     "iopub.status.busy": "2023-04-25T20:08:33.724572Z",
     "iopub.status.idle": "2023-04-25T20:08:33.728177Z",
     "shell.execute_reply": "2023-04-25T20:08:33.727829Z",
     "shell.execute_reply.started": "2023-04-25T20:08:33.724956Z"
    },
    "tags": []
   },
   "outputs": [
    {
     "data": {
      "text/plain": [
       "['Action',\n",
       " 'Action/Adventure',\n",
       " 'Adventure',\n",
       " 'Airplanes and airports',\n",
       " 'Costume Adventure',\n",
       " 'New Hollywood',\n",
       " 'Science Fiction',\n",
       " 'Thriller']"
      ]
     },
     "execution_count": 67,
     "metadata": {},
     "output_type": "execute_result"
    }
   ],
   "source": [
    "r.json()[0]"
   ]
  },
  {
   "cell_type": "code",
   "execution_count": 68,
   "id": "72ad35c0-eb0c-436a-9922-1f1b0ba415b8",
   "metadata": {
    "execution": {
     "iopub.execute_input": "2023-04-25T20:08:34.549878Z",
     "iopub.status.busy": "2023-04-25T20:08:34.549533Z",
     "iopub.status.idle": "2023-04-25T20:08:34.552241Z",
     "shell.execute_reply": "2023-04-25T20:08:34.551868Z",
     "shell.execute_reply.started": "2023-04-25T20:08:34.549863Z"
    },
    "tags": []
   },
   "outputs": [
    {
     "name": "stdout",
     "output_type": "stream",
     "text": [
      "Action, Action/Adventure, Adventure, Airplanes and airports, Costume Adventure, New Hollywood, Science Fiction, Thriller\n"
     ]
    }
   ],
   "source": [
    "# Imprima a lista de gêneros predita pelo modelo\n",
    "r_json = r.json()\n",
    "genres = r_json[0]\n",
    "genre_str = \", \".join(genres)\n",
    "print(genre_str)\n"
   ]
  },
  {
   "cell_type": "code",
   "execution_count": null,
   "id": "5441b92a-a5ce-4ed9-b510-6aadd3dccb17",
   "metadata": {},
   "outputs": [],
   "source": []
  },
  {
   "cell_type": "code",
   "execution_count": null,
   "id": "6fd55457-e740-4eaa-835d-2b57c923cf56",
   "metadata": {},
   "outputs": [],
   "source": []
  }
 ],
 "metadata": {
  "kernelspec": {
   "display_name": "Python 3 (ipykernel)",
   "language": "python",
   "name": "python3"
  },
  "language_info": {
   "codemirror_mode": {
    "name": "ipython",
    "version": 3
   },
   "file_extension": ".py",
   "mimetype": "text/x-python",
   "name": "python",
   "nbconvert_exporter": "python",
   "pygments_lexer": "ipython3",
   "version": "3.10.6"
  }
 },
 "nbformat": 4,
 "nbformat_minor": 5
}
